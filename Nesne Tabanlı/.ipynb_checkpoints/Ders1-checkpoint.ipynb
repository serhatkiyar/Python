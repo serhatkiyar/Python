{
 "cells": [
  {
   "cell_type": "code",
   "execution_count": 18,
   "id": "8d8bd41c",
   "metadata": {},
   "outputs": [],
   "source": [
    "class VeriBilimci:\n",
    "    sql = \"Hayır\"\n",
    "    bildigi_diller = []"
   ]
  },
  {
   "cell_type": "code",
   "execution_count": 19,
   "id": "922ec5c7",
   "metadata": {},
   "outputs": [],
   "source": [
    "serhat = VeriBilimci()"
   ]
  },
  {
   "cell_type": "code",
   "execution_count": 26,
   "id": "2b90b417",
   "metadata": {},
   "outputs": [
    {
     "data": {
      "text/plain": [
       "'Hayır'"
      ]
     },
     "execution_count": 26,
     "metadata": {},
     "output_type": "execute_result"
    }
   ],
   "source": [
    "serhat.sql"
   ]
  },
  {
   "cell_type": "code",
   "execution_count": 27,
   "id": "4e4ae52b",
   "metadata": {},
   "outputs": [
    {
     "data": {
      "text/plain": [
       "[]"
      ]
     },
     "execution_count": 27,
     "metadata": {},
     "output_type": "execute_result"
    }
   ],
   "source": [
    "serhat.bildigi_diller"
   ]
  },
  {
   "cell_type": "code",
   "execution_count": 28,
   "id": "bbea7092",
   "metadata": {},
   "outputs": [],
   "source": [
    "serhat.bildigi_diller.append('Python')"
   ]
  },
  {
   "cell_type": "code",
   "execution_count": 29,
   "id": "95cc7b3b",
   "metadata": {},
   "outputs": [
    {
     "data": {
      "text/plain": [
       "['Python']"
      ]
     },
     "execution_count": 29,
     "metadata": {},
     "output_type": "execute_result"
    }
   ],
   "source": [
    "serhat.bildigi_diller"
   ]
  },
  {
   "cell_type": "code",
   "execution_count": 31,
   "id": "bc49b3b1",
   "metadata": {},
   "outputs": [],
   "source": [
    "efe = VeriBilimci"
   ]
  },
  {
   "cell_type": "code",
   "execution_count": 32,
   "id": "49b45794",
   "metadata": {},
   "outputs": [
    {
     "data": {
      "text/plain": [
       "['Python']"
      ]
     },
     "execution_count": 32,
     "metadata": {},
     "output_type": "execute_result"
    }
   ],
   "source": [
    "efe.bildigi_diller"
   ]
  },
  {
   "cell_type": "code",
   "execution_count": null,
   "id": "80d9d6b1",
   "metadata": {},
   "outputs": [],
   "source": []
  }
 ],
 "metadata": {
  "kernelspec": {
   "display_name": "Python 3 (ipykernel)",
   "language": "python",
   "name": "python3"
  },
  "language_info": {
   "codemirror_mode": {
    "name": "ipython",
    "version": 3
   },
   "file_extension": ".py",
   "mimetype": "text/x-python",
   "name": "python",
   "nbconvert_exporter": "python",
   "pygments_lexer": "ipython3",
   "version": "3.11.3"
  }
 },
 "nbformat": 4,
 "nbformat_minor": 5
}
