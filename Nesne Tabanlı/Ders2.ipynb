{
 "cells": [
  {
   "cell_type": "code",
   "execution_count": 269,
   "id": "3ac7fa43",
   "metadata": {},
   "outputs": [],
   "source": [
    "class VeriBilimci:\n",
    "                \n",
    "            \n",
    "    def __init__(self):\n",
    "        VeriBilimci.calisanlar.append(\"calisan\")\n",
    "        self.bildigi_diller = []\n",
    "        self.deneyim_yili = 0\n",
    "    \n",
    "    calisanlar = []\n",
    "    \n",
    "    def calisansil(calisan):\n",
    "        del calisan\n",
    "    \n",
    "    def dilekle(self, *bilinen_diller):\n",
    "        for i in bilinen_diller:\n",
    "            self.bildigi_diller.append(i)\n",
    "\n",
    "        "
   ]
  },
  {
   "cell_type": "code",
   "execution_count": 270,
   "id": "b4da6221",
   "metadata": {},
   "outputs": [],
   "source": [
    "umut = VeriBilimci()"
   ]
  },
  {
   "cell_type": "code",
   "execution_count": 271,
   "id": "6e4d17f9",
   "metadata": {},
   "outputs": [
    {
     "data": {
      "text/plain": [
       "['calisan']"
      ]
     },
     "execution_count": 271,
     "metadata": {},
     "output_type": "execute_result"
    }
   ],
   "source": [
    "VeriBilimci.calisanlar"
   ]
  },
  {
   "cell_type": "code",
   "execution_count": 272,
   "id": "b1b15414",
   "metadata": {},
   "outputs": [],
   "source": [
    "serhat = VeriBilimci()"
   ]
  },
  {
   "cell_type": "code",
   "execution_count": 273,
   "id": "6cc7734d",
   "metadata": {},
   "outputs": [
    {
     "data": {
      "text/plain": [
       "['calisan', 'calisan']"
      ]
     },
     "execution_count": 273,
     "metadata": {},
     "output_type": "execute_result"
    }
   ],
   "source": [
    "VeriBilimci.calisanlar"
   ]
  },
  {
   "cell_type": "code",
   "execution_count": 274,
   "id": "e3d814e6",
   "metadata": {},
   "outputs": [],
   "source": [
    "VeriBilimci.calisansil(umut)"
   ]
  },
  {
   "cell_type": "code",
   "execution_count": 275,
   "id": "433dcdbc",
   "metadata": {},
   "outputs": [
    {
     "data": {
      "text/plain": [
       "<__main__.VeriBilimci at 0x2a47d4327d0>"
      ]
     },
     "execution_count": 275,
     "metadata": {},
     "output_type": "execute_result"
    }
   ],
   "source": [
    "umut"
   ]
  },
  {
   "cell_type": "code",
   "execution_count": 276,
   "id": "6cc87a58",
   "metadata": {},
   "outputs": [
    {
     "data": {
      "text/plain": [
       "__main__.VeriBilimci"
      ]
     },
     "execution_count": 276,
     "metadata": {},
     "output_type": "execute_result"
    }
   ],
   "source": []
  },
  {
   "cell_type": "code",
   "execution_count": 278,
   "id": "afa57f2e",
   "metadata": {},
   "outputs": [],
   "source": [
    "newsum = lambda x : 2 * x"
   ]
  },
  {
   "cell_type": "code",
   "execution_count": 279,
   "id": "d08b75e0",
   "metadata": {},
   "outputs": [
    {
     "data": {
      "text/plain": [
       "<function __main__.<lambda>(x)>"
      ]
     },
     "execution_count": 279,
     "metadata": {},
     "output_type": "execute_result"
    }
   ],
   "source": [
    "newsum"
   ]
  },
  {
   "cell_type": "code",
   "execution_count": 280,
   "id": "e7cd26b1",
   "metadata": {},
   "outputs": [
    {
     "data": {
      "text/plain": [
       "4"
      ]
     },
     "execution_count": 280,
     "metadata": {},
     "output_type": "execute_result"
    }
   ],
   "source": [
    "newsum(2)"
   ]
  },
  {
   "cell_type": "code",
   "execution_count": null,
   "id": "d4880bbe",
   "metadata": {},
   "outputs": [],
   "source": []
  }
 ],
 "metadata": {
  "kernelspec": {
   "display_name": "Python 3 (ipykernel)",
   "language": "python",
   "name": "python3"
  },
  "language_info": {
   "codemirror_mode": {
    "name": "ipython",
    "version": 3
   },
   "file_extension": ".py",
   "mimetype": "text/x-python",
   "name": "python",
   "nbconvert_exporter": "python",
   "pygments_lexer": "ipython3",
   "version": "3.11.3"
  }
 },
 "nbformat": 4,
 "nbformat_minor": 5
}
