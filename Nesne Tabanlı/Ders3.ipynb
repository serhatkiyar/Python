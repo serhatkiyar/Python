{
 "cells": [
  {
   "cell_type": "code",
   "execution_count": 1,
   "id": "f1d1f106",
   "metadata": {},
   "outputs": [],
   "source": [
    "liste1 = [1, 2, 3, 4]\n",
    "liste2 = [5, 6, 7, 8]"
   ]
  },
  {
   "cell_type": "code",
   "execution_count": 2,
   "id": "23ff5693",
   "metadata": {},
   "outputs": [
    {
     "data": {
      "text/plain": [
       "[5, 12, 21, 32]"
      ]
     },
     "execution_count": 2,
     "metadata": {},
     "output_type": "execute_result"
    }
   ],
   "source": [
    "[liste1[i] * liste2[i] for i in range(len(liste1))]"
   ]
  },
  {
   "cell_type": "code",
   "execution_count": 5,
   "id": "7dbb75fc",
   "metadata": {},
   "outputs": [
    {
     "data": {
      "text/plain": [
       "[5, 12, 21, 32]"
      ]
     },
     "execution_count": 5,
     "metadata": {},
     "output_type": "execute_result"
    }
   ],
   "source": [
    "[i * j for i, j in zip(liste1, liste2)]"
   ]
  },
  {
   "cell_type": "code",
   "execution_count": 9,
   "id": "f40d1786",
   "metadata": {},
   "outputs": [
    {
     "data": {
      "text/plain": [
       "[5, 12, 21, 32]"
      ]
     },
     "execution_count": 9,
     "metadata": {},
     "output_type": "execute_result"
    }
   ],
   "source": [
    "[x[0] * x[1] for x in zip(liste1, liste2)]"
   ]
  },
  {
   "cell_type": "code",
   "execution_count": 10,
   "id": "41cc4f4d",
   "metadata": {},
   "outputs": [],
   "source": [
    "import numpy as np"
   ]
  },
  {
   "cell_type": "code",
   "execution_count": 11,
   "id": "9b958c23",
   "metadata": {},
   "outputs": [
    {
     "data": {
      "text/plain": [
       "[5, 12, 21, 32]"
      ]
     },
     "execution_count": 11,
     "metadata": {},
     "output_type": "execute_result"
    }
   ],
   "source": [
    "list(np.array(liste1) * np.array(liste2))"
   ]
  },
  {
   "cell_type": "code",
   "execution_count": null,
   "id": "23bc4400",
   "metadata": {},
   "outputs": [],
   "source": []
  }
 ],
 "metadata": {
  "kernelspec": {
   "display_name": "Python 3 (ipykernel)",
   "language": "python",
   "name": "python3"
  },
  "language_info": {
   "codemirror_mode": {
    "name": "ipython",
    "version": 3
   },
   "file_extension": ".py",
   "mimetype": "text/x-python",
   "name": "python",
   "nbconvert_exporter": "python",
   "pygments_lexer": "ipython3",
   "version": "3.11.3"
  }
 },
 "nbformat": 4,
 "nbformat_minor": 5
}
