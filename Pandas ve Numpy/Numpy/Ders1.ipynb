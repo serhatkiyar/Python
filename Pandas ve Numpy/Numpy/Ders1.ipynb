{
 "cells": [
  {
   "cell_type": "markdown",
   "id": "71005222",
   "metadata": {},
   "source": [
    "# **Numpy' a Giriş**"
   ]
  },
  {
   "cell_type": "code",
   "execution_count": 10,
   "id": "6487cc5d",
   "metadata": {},
   "outputs": [],
   "source": [
    "import numpy as np"
   ]
  },
  {
   "cell_type": "markdown",
   "id": "691357cf",
   "metadata": {},
   "source": [
    "**__________________________________________________________________________________**"
   ]
  },
  {
   "cell_type": "markdown",
   "id": "740a28ac",
   "metadata": {},
   "source": [
    "Liste oluşturalım"
   ]
  },
  {
   "cell_type": "code",
   "execution_count": 4,
   "id": "75385910",
   "metadata": {},
   "outputs": [],
   "source": [
    "a = [1, 2, 3, 4]\n",
    "b = [5, 6, 7, 8]"
   ]
  },
  {
   "cell_type": "code",
   "execution_count": 6,
   "id": "e9b98036",
   "metadata": {},
   "outputs": [
    {
     "data": {
      "text/plain": [
       "([1, 2, 3, 4], [5, 6, 7, 8])"
      ]
     },
     "execution_count": 6,
     "metadata": {},
     "output_type": "execute_result"
    }
   ],
   "source": [
    "a, b"
   ]
  },
  {
   "cell_type": "markdown",
   "id": "9d252248",
   "metadata": {},
   "source": [
    "**__________________________________________________________________________________**"
   ]
  },
  {
   "cell_type": "code",
   "execution_count": null,
   "id": "2142033f",
   "metadata": {},
   "outputs": [],
   "source": [
    "[x * y for x, y  in zip(a, b)]"
   ]
  },
  {
   "cell_type": "markdown",
   "id": "edb493d5",
   "metadata": {},
   "source": [
    "**Listeleri bu şekilde çarpmak yerine numpy kütüphanesi ile bu ve benzeri işlemleri daha pratik bir şekilde çarpabiliriz.**"
   ]
  },
  {
   "cell_type": "code",
   "execution_count": 11,
   "id": "704fcb4d",
   "metadata": {},
   "outputs": [
    {
     "data": {
      "text/plain": [
       "array([ 5, 12, 21, 32])"
      ]
     },
     "execution_count": 11,
     "metadata": {},
     "output_type": "execute_result"
    }
   ],
   "source": [
    "np.array(a) * np.array(b)"
   ]
  },
  {
   "cell_type": "markdown",
   "id": "8bb448d9",
   "metadata": {},
   "source": [
    "**__________________________________________________________________________________**"
   ]
  }
 ],
 "metadata": {
  "kernelspec": {
   "display_name": "Python 3 (ipykernel)",
   "language": "python",
   "name": "python3"
  },
  "language_info": {
   "codemirror_mode": {
    "name": "ipython",
    "version": 3
   },
   "file_extension": ".py",
   "mimetype": "text/x-python",
   "name": "python",
   "nbconvert_exporter": "python",
   "pygments_lexer": "ipython3",
   "version": "3.11.3"
  }
 },
 "nbformat": 4,
 "nbformat_minor": 5
}
