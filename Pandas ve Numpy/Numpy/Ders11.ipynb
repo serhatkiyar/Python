{
 "cells": [
  {
   "cell_type": "markdown",
   "id": "7fd26f0f4154b832",
   "metadata": {},
   "source": [
    "# MATEMATİKSEL İŞLEMLER"
   ]
  },
  {
   "cell_type": "code",
   "execution_count": 2,
   "id": "c0a325c5ddb6ccda",
   "metadata": {
    "ExecuteTime": {
     "end_time": "2024-02-25T12:01:17.474825900Z",
     "start_time": "2024-02-25T12:01:17.318435Z"
    }
   },
   "outputs": [],
   "source": [
    "import numpy as np"
   ]
  },
  {
   "cell_type": "code",
   "execution_count": 3,
   "id": "692755db72eb178f",
   "metadata": {
    "ExecuteTime": {
     "end_time": "2024-02-25T12:01:17.573199300Z",
     "start_time": "2024-02-25T12:01:17.567160200Z"
    }
   },
   "outputs": [],
   "source": [
    "a = np.arange(1, 10).reshape(3, 3)"
   ]
  },
  {
   "cell_type": "code",
   "execution_count": 4,
   "id": "1fb77254ed8e0a13",
   "metadata": {
    "ExecuteTime": {
     "end_time": "2024-02-25T12:01:18.170272200Z",
     "start_time": "2024-02-25T12:01:18.148405600Z"
    }
   },
   "outputs": [
    {
     "data": {
      "text/plain": [
       "array([[1, 2, 3],\n",
       "       [4, 5, 6],\n",
       "       [7, 8, 9]])"
      ]
     },
     "execution_count": 4,
     "metadata": {},
     "output_type": "execute_result"
    }
   ],
   "source": [
    "a"
   ]
  },
  {
   "cell_type": "code",
   "execution_count": 5,
   "id": "a82c797f9be892e",
   "metadata": {
    "ExecuteTime": {
     "end_time": "2024-02-25T12:01:19.390784Z",
     "start_time": "2024-02-25T12:01:19.358023900Z"
    }
   },
   "outputs": [
    {
     "data": {
      "text/plain": [
       "array([[ 5, 10, 15],\n",
       "       [20, 25, 30],\n",
       "       [35, 40, 45]])"
      ]
     },
     "execution_count": 5,
     "metadata": {},
     "output_type": "execute_result"
    }
   ],
   "source": [
    "a * 5"
   ]
  },
  {
   "cell_type": "code",
   "execution_count": 6,
   "id": "35d6bf0fddf3c87d",
   "metadata": {
    "ExecuteTime": {
     "end_time": "2024-02-25T12:01:20.003687400Z",
     "start_time": "2024-02-25T12:01:19.989491100Z"
    }
   },
   "outputs": [
    {
     "data": {
      "text/plain": [
       "array([[ 6,  7,  8],\n",
       "       [ 9, 10, 11],\n",
       "       [12, 13, 14]])"
      ]
     },
     "execution_count": 6,
     "metadata": {},
     "output_type": "execute_result"
    }
   ],
   "source": [
    "a + 5"
   ]
  },
  {
   "cell_type": "code",
   "execution_count": 7,
   "id": "74f3dd04b54b588e",
   "metadata": {
    "ExecuteTime": {
     "end_time": "2024-02-25T12:01:20.639766Z",
     "start_time": "2024-02-25T12:01:20.626499800Z"
    }
   },
   "outputs": [
    {
     "data": {
      "text/plain": [
       "array([[0, 1, 2],\n",
       "       [3, 4, 5],\n",
       "       [6, 7, 8]])"
      ]
     },
     "execution_count": 7,
     "metadata": {},
     "output_type": "execute_result"
    }
   ],
   "source": [
    "a - 1"
   ]
  },
  {
   "cell_type": "code",
   "execution_count": 8,
   "id": "90ae83cc668d0436",
   "metadata": {
    "ExecuteTime": {
     "end_time": "2024-02-25T12:01:21.198606600Z",
     "start_time": "2024-02-25T12:01:21.184750100Z"
    }
   },
   "outputs": [
    {
     "data": {
      "text/plain": [
       "array([[ 2.,  4.,  6.],\n",
       "       [ 8., 10., 12.],\n",
       "       [14., 16., 18.]])"
      ]
     },
     "execution_count": 8,
     "metadata": {},
     "output_type": "execute_result"
    }
   ],
   "source": [
    "a / 0.5"
   ]
  },
  {
   "cell_type": "code",
   "execution_count": 9,
   "id": "4db75c634edfe2a0",
   "metadata": {
    "ExecuteTime": {
     "end_time": "2024-02-25T12:01:22.172211400Z",
     "start_time": "2024-02-25T12:01:22.156126800Z"
    }
   },
   "outputs": [
    {
     "data": {
      "text/plain": [
       "array([[1, 0, 1],\n",
       "       [0, 1, 0],\n",
       "       [1, 0, 1]], dtype=int32)"
      ]
     },
     "execution_count": 9,
     "metadata": {},
     "output_type": "execute_result"
    }
   ],
   "source": [
    "a % 2"
   ]
  },
  {
   "cell_type": "code",
   "execution_count": 16,
   "id": "a84db77c2253b77e",
   "metadata": {
    "ExecuteTime": {
     "end_time": "2024-02-25T12:12:12.870335600Z",
     "start_time": "2024-02-25T12:12:12.844887200Z"
    }
   },
   "outputs": [
    {
     "data": {
      "text/plain": [
       "array([[ 1,  4,  9],\n",
       "       [16, 25, 36],\n",
       "       [49, 64, 81]], dtype=int32)"
      ]
     },
     "execution_count": 16,
     "metadata": {},
     "output_type": "execute_result"
    }
   ],
   "source": [
    "np.power(a, 2)"
   ]
  },
  {
   "cell_type": "code",
   "execution_count": 11,
   "id": "b837d1ea963d6533",
   "metadata": {
    "ExecuteTime": {
     "end_time": "2024-02-25T12:02:27.043191500Z",
     "start_time": "2024-02-25T12:02:27.020216800Z"
    }
   },
   "outputs": [
    {
     "data": {
      "text/plain": [
       "-0.8011526357338304"
      ]
     },
     "execution_count": 11,
     "metadata": {},
     "output_type": "execute_result"
    }
   ],
   "source": [
    "np.sin(180)"
   ]
  },
  {
   "cell_type": "code",
   "execution_count": 13,
   "id": "ce50338deeb752ed",
   "metadata": {
    "ExecuteTime": {
     "end_time": "2024-02-25T12:02:53.193664200Z",
     "start_time": "2024-02-25T12:02:53.167152300Z"
    }
   },
   "outputs": [
    {
     "data": {
      "text/plain": [
       "array([[ 0.84147098,  0.90929743,  0.14112001],\n",
       "       [-0.7568025 , -0.95892427, -0.2794155 ],\n",
       "       [ 0.6569866 ,  0.98935825,  0.41211849]])"
      ]
     },
     "execution_count": 13,
     "metadata": {},
     "output_type": "execute_result"
    }
   ],
   "source": [
    "np.sin(a)"
   ]
  },
  {
   "cell_type": "code",
   "execution_count": null,
   "id": "7450aae26642b16b",
   "metadata": {},
   "outputs": [],
   "source": []
  }
 ],
 "metadata": {
  "kernelspec": {
   "display_name": "Python 3 (ipykernel)",
   "language": "python",
   "name": "python3"
  },
  "language_info": {
   "codemirror_mode": {
    "name": "ipython",
    "version": 3
   },
   "file_extension": ".py",
   "mimetype": "text/x-python",
   "name": "python",
   "nbconvert_exporter": "python",
   "pygments_lexer": "ipython3",
   "version": "3.11.3"
  }
 },
 "nbformat": 4,
 "nbformat_minor": 5
}
