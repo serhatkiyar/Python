{
 "cells": [
  {
   "cell_type": "markdown",
   "id": "087fa7c6",
   "metadata": {},
   "source": [
    "# Array Sıralama (Sorting)"
   ]
  },
  {
   "cell_type": "code",
   "execution_count": 1,
   "id": "154a8df7",
   "metadata": {},
   "outputs": [],
   "source": [
    "import numpy as np"
   ]
  },
  {
   "cell_type": "markdown",
   "id": "3a5e42fd",
   "metadata": {},
   "source": [
    "**TEK BOYULAR İÇİN**"
   ]
  },
  {
   "cell_type": "code",
   "execution_count": 2,
   "id": "75fb71a5",
   "metadata": {},
   "outputs": [],
   "source": [
    "v = np.array([2, 1, 4, 3, 5])"
   ]
  },
  {
   "cell_type": "code",
   "execution_count": 3,
   "id": "b86babcd",
   "metadata": {},
   "outputs": [
    {
     "data": {
      "text/plain": [
       "array([2, 1, 4, 3, 5])"
      ]
     },
     "execution_count": 3,
     "metadata": {},
     "output_type": "execute_result"
    }
   ],
   "source": [
    "v"
   ]
  },
  {
   "cell_type": "code",
   "execution_count": 8,
   "id": "60d73179",
   "metadata": {},
   "outputs": [
    {
     "data": {
      "text/plain": [
       "array([1, 2, 3, 4, 5])"
      ]
     },
     "execution_count": 8,
     "metadata": {},
     "output_type": "execute_result"
    }
   ],
   "source": [
    "np.sort(v)"
   ]
  },
  {
   "cell_type": "code",
   "execution_count": 5,
   "id": "d141349c",
   "metadata": {},
   "outputs": [
    {
     "data": {
      "text/plain": [
       "array([2, 1, 4, 3, 5])"
      ]
     },
     "execution_count": 5,
     "metadata": {},
     "output_type": "execute_result"
    }
   ],
   "source": [
    "v # Yapılan sıralama işlemi v arrayini değiştirmedi"
   ]
  },
  {
   "cell_type": "markdown",
   "id": "cccb64a9",
   "metadata": {},
   "source": [
    "**__________________________________________________________________________________________**"
   ]
  },
  {
   "cell_type": "markdown",
   "id": "eca9acc8",
   "metadata": {},
   "source": [
    "**' sort() ' fonksiyonunu  ' .sort() ' metodu olarak kullanılırsa yapılan sıralama işlemi arrayin yapısını kalıcı şekilde değiştir.**"
   ]
  },
  {
   "cell_type": "code",
   "execution_count": 14,
   "id": "d86f20df",
   "metadata": {},
   "outputs": [],
   "source": [
    "v.sort()"
   ]
  },
  {
   "cell_type": "code",
   "execution_count": 7,
   "id": "91eddb2e",
   "metadata": {
    "scrolled": true
   },
   "outputs": [
    {
     "data": {
      "text/plain": [
       "array([1, 2, 3, 4, 5])"
      ]
     },
     "execution_count": 7,
     "metadata": {},
     "output_type": "execute_result"
    }
   ],
   "source": [
    "v"
   ]
  },
  {
   "cell_type": "markdown",
   "id": "812b54fe",
   "metadata": {},
   "source": [
    "## İKİ BOYUTLU ARRAY SIRALAMA"
   ]
  },
  {
   "cell_type": "code",
   "execution_count": 10,
   "id": "0581c17a",
   "metadata": {},
   "outputs": [],
   "source": [
    "m = np.random.normal(20, 5, (3, 3)) # Ortalaması 20, standart sapması 5 olan 3'e 3'lük bir matris oluşturuldu."
   ]
  },
  {
   "cell_type": "code",
   "execution_count": 11,
   "id": "02755946",
   "metadata": {},
   "outputs": [
    {
     "data": {
      "text/plain": [
       "array([[25.86218195, 26.55427329, 16.01354503],\n",
       "       [13.69933436, 17.15739926, 25.14689397],\n",
       "       [15.70509435, 16.96175188, 21.94310471]])"
      ]
     },
     "execution_count": 11,
     "metadata": {},
     "output_type": "execute_result"
    }
   ],
   "source": [
    "m"
   ]
  },
  {
   "cell_type": "code",
   "execution_count": 12,
   "id": "a65cb8c3",
   "metadata": {
    "scrolled": true
   },
   "outputs": [
    {
     "data": {
      "text/plain": [
       "array([[16.01354503, 25.86218195, 26.55427329],\n",
       "       [13.69933436, 17.15739926, 25.14689397],\n",
       "       [15.70509435, 16.96175188, 21.94310471]])"
      ]
     },
     "execution_count": 12,
     "metadata": {},
     "output_type": "execute_result"
    }
   ],
   "source": [
    "np.sort(m, axis=1)"
   ]
  },
  {
   "cell_type": "code",
   "execution_count": 13,
   "id": "c1fe0e6e",
   "metadata": {},
   "outputs": [
    {
     "data": {
      "text/plain": [
       "array([[13.69933436, 16.96175188, 16.01354503],\n",
       "       [15.70509435, 17.15739926, 21.94310471],\n",
       "       [25.86218195, 26.55427329, 25.14689397]])"
      ]
     },
     "execution_count": 13,
     "metadata": {},
     "output_type": "execute_result"
    }
   ],
   "source": [
    "np.sort(m, axis=0)"
   ]
  }
 ],
 "metadata": {
  "kernelspec": {
   "display_name": "Python 3 (ipykernel)",
   "language": "python",
   "name": "python3"
  },
  "language_info": {
   "codemirror_mode": {
    "name": "ipython",
    "version": 3
   },
   "file_extension": ".py",
   "mimetype": "text/x-python",
   "name": "python",
   "nbconvert_exporter": "python",
   "pygments_lexer": "ipython3",
   "version": "3.11.3"
  }
 },
 "nbformat": 4,
 "nbformat_minor": 5
}
