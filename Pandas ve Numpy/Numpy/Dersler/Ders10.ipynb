{
 "cells": [
  {
   "cell_type": "markdown",
   "id": "c6324103-4592-43e7-b233-a10890115849",
   "metadata": {},
   "source": [
    "# Fancy index ile elemanlara erişmek"
   ]
  },
  {
   "cell_type": "code",
   "execution_count": 3,
   "id": "85e6e582-4b9f-42ef-93ca-077bb256ef98",
   "metadata": {
    "tags": [],
    "ExecuteTime": {
     "end_time": "2024-02-24T20:21:47.974125900Z",
     "start_time": "2024-02-24T20:21:47.891747500Z"
    }
   },
   "outputs": [],
   "source": [
    "import numpy as np"
   ]
  },
  {
   "cell_type": "code",
   "execution_count": 39,
   "id": "ec18006a-d1d0-45e1-bac7-aba01e279b7d",
   "metadata": {
    "tags": [],
    "ExecuteTime": {
     "end_time": "2024-02-24T20:41:37.279796Z",
     "start_time": "2024-02-24T20:41:37.271396400Z"
    }
   },
   "outputs": [],
   "source": [
    "v = np.arange(0, 30, 3)"
   ]
  },
  {
   "cell_type": "code",
   "execution_count": 51,
   "id": "6cb346da-3a35-4102-bd3d-06fd94b8b49b",
   "metadata": {
    "tags": [],
    "ExecuteTime": {
     "end_time": "2024-02-24T21:18:53.269812100Z",
     "start_time": "2024-02-24T21:18:53.263745500Z"
    }
   },
   "outputs": [
    {
     "data": {
      "text/plain": "array([ 0,  3,  6,  9, 12, 15, 18, 21, 24, 27])"
     },
     "execution_count": 51,
     "metadata": {},
     "output_type": "execute_result"
    }
   ],
   "source": [
    "v"
   ]
  },
  {
   "cell_type": "code",
   "execution_count": 25,
   "id": "37b1d19a-af07-44d2-b1b8-c89c7af9e305",
   "metadata": {
    "tags": [],
    "ExecuteTime": {
     "end_time": "2024-02-24T20:27:57.578259100Z",
     "start_time": "2024-02-24T20:27:57.571202500Z"
    }
   },
   "outputs": [
    {
     "data": {
      "text/plain": "3"
     },
     "execution_count": 25,
     "metadata": {},
     "output_type": "execute_result"
    }
   ],
   "source": [
    "v[1]"
   ]
  },
  {
   "cell_type": "code",
   "execution_count": 26,
   "id": "9dc87a31-c3ad-4e7f-9ced-c7621d7a84be",
   "metadata": {
    "tags": [],
    "ExecuteTime": {
     "end_time": "2024-02-24T20:27:59.390765900Z",
     "start_time": "2024-02-24T20:27:59.384389100Z"
    }
   },
   "outputs": [
    {
     "data": {
      "text/plain": "9"
     },
     "execution_count": 26,
     "metadata": {},
     "output_type": "execute_result"
    }
   ],
   "source": [
    "v[3]"
   ]
  },
  {
   "cell_type": "code",
   "execution_count": 27,
   "id": "8993ceca-7bce-4dc6-bf93-49b3075e597e",
   "metadata": {
    "tags": [],
    "ExecuteTime": {
     "end_time": "2024-02-24T20:28:00.128947Z",
     "start_time": "2024-02-24T20:28:00.123079800Z"
    }
   },
   "outputs": [
    {
     "data": {
      "text/plain": "27"
     },
     "execution_count": 27,
     "metadata": {},
     "output_type": "execute_result"
    }
   ],
   "source": [
    "v[-1]"
   ]
  },
  {
   "cell_type": "code",
   "execution_count": 1,
   "id": "2f177e5c-271c-4a2e-ae47-781a1174340e",
   "metadata": {
    "ExecuteTime": {
     "end_time": "2024-02-24T20:21:31.550440900Z",
     "start_time": "2024-02-24T20:21:31.535273700Z"
    }
   },
   "outputs": [],
   "source": [
    "getir = [1, 3, -1]"
   ]
  },
  {
   "cell_type": "code",
   "outputs": [
    {
     "data": {
      "text/plain": "array([ 3,  9, 27])"
     },
     "execution_count": 41,
     "metadata": {},
     "output_type": "execute_result"
    }
   ],
   "source": [
    "v[getir]"
   ],
   "metadata": {
    "collapsed": false,
    "ExecuteTime": {
     "end_time": "2024-02-24T20:49:20.434741800Z",
     "start_time": "2024-02-24T20:49:20.429358Z"
    }
   },
   "id": "cff38f1b90db54ef",
   "execution_count": 41
  },
  {
   "cell_type": "markdown",
   "source": [
    "Bu şekilde bir filtreleme işlemi yapmış olduk."
   ],
   "metadata": {
    "collapsed": false
   },
   "id": "9c0352ed62994880"
  },
  {
   "cell_type": "code",
   "outputs": [
    {
     "data": {
      "text/plain": "array([ 0,  3,  6,  9, 12, 15, 18, 21, 24, 27])"
     },
     "execution_count": 48,
     "metadata": {},
     "output_type": "execute_result"
    }
   ],
   "source": [
    "v"
   ],
   "metadata": {
    "collapsed": false,
    "ExecuteTime": {
     "end_time": "2024-02-24T21:17:45.593553600Z",
     "start_time": "2024-02-24T21:17:45.584404300Z"
    }
   },
   "id": "96f3d2e9a51a68ad",
   "execution_count": 48
  },
  {
   "cell_type": "code",
   "outputs": [],
   "source": [
    "m = np.arange(0, 9).reshape(3, 3)"
   ],
   "metadata": {
    "collapsed": false,
    "ExecuteTime": {
     "end_time": "2024-02-24T21:21:02.125584100Z",
     "start_time": "2024-02-24T21:21:02.115471Z"
    }
   },
   "id": "2962f766e5ac402e",
   "execution_count": 54
  },
  {
   "cell_type": "code",
   "outputs": [
    {
     "data": {
      "text/plain": "array([[0, 1, 2],\n       [3, 4, 5],\n       [6, 7, 8]])"
     },
     "execution_count": 56,
     "metadata": {},
     "output_type": "execute_result"
    }
   ],
   "source": [
    "m"
   ],
   "metadata": {
    "collapsed": false,
    "ExecuteTime": {
     "end_time": "2024-02-24T21:21:10.430372200Z",
     "start_time": "2024-02-24T21:21:10.422526100Z"
    }
   },
   "id": "501a3d188461a523",
   "execution_count": 56
  },
  {
   "cell_type": "code",
   "outputs": [
    {
     "data": {
      "text/plain": "array([[0, 2],\n       [3, 5]])"
     },
     "execution_count": 58,
     "metadata": {},
     "output_type": "execute_result"
    }
   ],
   "source": [
    "m[0:2, [0, 2]]"
   ],
   "metadata": {
    "collapsed": false,
    "ExecuteTime": {
     "end_time": "2024-02-24T21:21:39.891665300Z",
     "start_time": "2024-02-24T21:21:39.885268700Z"
    }
   },
   "id": "574dff2fbb9904f2",
   "execution_count": 58
  },
  {
   "cell_type": "code",
   "outputs": [
    {
     "data": {
      "text/plain": "array([[0, 1, 2],\n       [6, 7, 8]])"
     },
     "execution_count": 59,
     "metadata": {},
     "output_type": "execute_result"
    }
   ],
   "source": [
    "m[[0,2], :3]"
   ],
   "metadata": {
    "collapsed": false,
    "ExecuteTime": {
     "end_time": "2024-02-24T21:22:14.016478800Z",
     "start_time": "2024-02-24T21:22:14.006341400Z"
    }
   },
   "id": "1e1d122e1d516d0e",
   "execution_count": 59
  },
  {
   "cell_type": "code",
   "outputs": [],
   "source": [],
   "metadata": {
    "collapsed": false
   },
   "id": "82406ef1812c6d07"
  }
 ],
 "metadata": {
  "kernelspec": {
   "display_name": "Python 3 (ipykernel)",
   "language": "python",
   "name": "python3"
  },
  "language_info": {
   "codemirror_mode": {
    "name": "ipython",
    "version": 3
   },
   "file_extension": ".py",
   "mimetype": "text/x-python",
   "name": "python",
   "nbconvert_exporter": "python",
   "pygments_lexer": "ipython3",
   "version": "3.11.3"
  }
 },
 "nbformat": 4,
 "nbformat_minor": 5
}
