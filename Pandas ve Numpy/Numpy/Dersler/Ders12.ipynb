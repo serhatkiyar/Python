{
 "cells": [
  {
   "cell_type": "markdown",
   "source": [
    "# Numpy ile iki bilinmeyenli denklem çözümü"
   ],
   "metadata": {
    "collapsed": false
   },
   "id": "91d0260852497a5b"
  },
  {
   "cell_type": "code",
   "outputs": [],
   "source": [
    "import numpy as np"
   ],
   "metadata": {
    "collapsed": false,
    "ExecuteTime": {
     "end_time": "2024-02-25T12:13:10.297276900Z",
     "start_time": "2024-02-25T12:13:10.102805900Z"
    }
   },
   "id": "c53796d2bd85892f",
   "execution_count": 1
  },
  {
   "cell_type": "markdown",
   "source": [
    "5 * x0 + x1 = 12\n",
    "x0 + 3 * x1 =0 10"
   ],
   "metadata": {
    "collapsed": false
   },
   "id": "804b8f36704d4f14"
  },
  {
   "cell_type": "code",
   "outputs": [],
   "source": [
    "a = np.array([[5,1], [1,3]])\n",
    "b = np.array([12,10])"
   ],
   "metadata": {
    "collapsed": false,
    "ExecuteTime": {
     "end_time": "2024-02-25T12:18:30.982877700Z",
     "start_time": "2024-02-25T12:18:30.967778600Z"
    }
   },
   "id": "4f0536a668ac007a",
   "execution_count": 27
  },
  {
   "cell_type": "code",
   "outputs": [
    {
     "data": {
      "text/plain": "array([[5, 1],\n       [1, 3]])"
     },
     "execution_count": 28,
     "metadata": {},
     "output_type": "execute_result"
    }
   ],
   "source": [
    "a"
   ],
   "metadata": {
    "collapsed": false,
    "ExecuteTime": {
     "end_time": "2024-02-25T12:18:37.072994200Z",
     "start_time": "2024-02-25T12:18:37.067605200Z"
    }
   },
   "id": "85ae04d837b27e43",
   "execution_count": 28
  },
  {
   "cell_type": "code",
   "outputs": [
    {
     "data": {
      "text/plain": "array([12, 10])"
     },
     "execution_count": 29,
     "metadata": {},
     "output_type": "execute_result"
    }
   ],
   "source": [
    "b"
   ],
   "metadata": {
    "collapsed": false,
    "ExecuteTime": {
     "end_time": "2024-02-25T12:18:38.879053900Z",
     "start_time": "2024-02-25T12:18:38.849013800Z"
    }
   },
   "id": "506dadc0fe4c1480",
   "execution_count": 29
  },
  {
   "cell_type": "code",
   "outputs": [],
   "source": [
    "x = np.linalg.solve(a, b)"
   ],
   "metadata": {
    "collapsed": false,
    "ExecuteTime": {
     "end_time": "2024-02-25T12:18:59.721666700Z",
     "start_time": "2024-02-25T12:18:59.718425Z"
    }
   },
   "id": "72bb2531464ec90f",
   "execution_count": 30
  },
  {
   "cell_type": "code",
   "outputs": [
    {
     "data": {
      "text/plain": "array([1.85714286, 2.71428571])"
     },
     "execution_count": 31,
     "metadata": {},
     "output_type": "execute_result"
    }
   ],
   "source": [
    "x"
   ],
   "metadata": {
    "collapsed": false,
    "ExecuteTime": {
     "end_time": "2024-02-25T12:19:01.102539800Z",
     "start_time": "2024-02-25T12:19:01.094616800Z"
    }
   },
   "id": "aadee9af43d0ec5b",
   "execution_count": 31
  },
  {
   "cell_type": "code",
   "outputs": [],
   "source": [],
   "metadata": {
    "collapsed": false
   },
   "id": "b07fd6e4be149d1f"
  }
 ],
 "metadata": {
  "kernelspec": {
   "display_name": "Python 3",
   "language": "python",
   "name": "python3"
  },
  "language_info": {
   "codemirror_mode": {
    "name": "ipython",
    "version": 2
   },
   "file_extension": ".py",
   "mimetype": "text/x-python",
   "name": "python",
   "nbconvert_exporter": "python",
   "pygments_lexer": "ipython2",
   "version": "2.7.6"
  }
 },
 "nbformat": 4,
 "nbformat_minor": 5
}
