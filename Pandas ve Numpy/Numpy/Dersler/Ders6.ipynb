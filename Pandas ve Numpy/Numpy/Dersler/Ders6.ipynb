{
 "cells": [
  {
   "cell_type": "markdown",
   "id": "16648361",
   "metadata": {},
   "source": [
    "# Array Ayırma (Splitting)"
   ]
  },
  {
   "cell_type": "code",
   "execution_count": 5,
   "id": "4c7f3f12",
   "metadata": {},
   "outputs": [],
   "source": [
    "import numpy as np"
   ]
  },
  {
   "cell_type": "markdown",
   "id": "69501dc2",
   "metadata": {},
   "source": [
    "**TEK BOYUTLU ARRAYLERİ AYIRMA**"
   ]
  },
  {
   "cell_type": "code",
   "execution_count": 6,
   "id": "74cd9fcb",
   "metadata": {},
   "outputs": [],
   "source": [
    "x = np.array([1, 2, 3, 99, 99, 3, 2, 1])"
   ]
  },
  {
   "cell_type": "code",
   "execution_count": 7,
   "id": "e5c84548",
   "metadata": {},
   "outputs": [],
   "source": [
    "a,b,c = np.split(x, [3, 5]) # köşeli parantez içinde verilen index değerleri arrayin bölüneceği noktaları belirtir."
   ]
  },
  {
   "cell_type": "markdown",
   "id": "fa57fcd6",
   "metadata": {},
   "source": [
    "Tek boyuttaki arraylari bölmek için '.split' metodunu kullanabiliriz."
   ]
  },
  {
   "cell_type": "code",
   "execution_count": 8,
   "id": "5a7aacaa",
   "metadata": {},
   "outputs": [
    {
     "data": {
      "text/plain": [
       "array([1, 2, 3])"
      ]
     },
     "execution_count": 8,
     "metadata": {},
     "output_type": "execute_result"
    }
   ],
   "source": [
    "a"
   ]
  },
  {
   "cell_type": "code",
   "execution_count": 9,
   "id": "3962148b",
   "metadata": {},
   "outputs": [
    {
     "data": {
      "text/plain": [
       "array([99, 99])"
      ]
     },
     "execution_count": 9,
     "metadata": {},
     "output_type": "execute_result"
    }
   ],
   "source": [
    "b"
   ]
  },
  {
   "cell_type": "code",
   "execution_count": 10,
   "id": "8566f63c",
   "metadata": {},
   "outputs": [
    {
     "data": {
      "text/plain": [
       "array([3, 2, 1])"
      ]
     },
     "execution_count": 10,
     "metadata": {},
     "output_type": "execute_result"
    }
   ],
   "source": [
    "c"
   ]
  },
  {
   "cell_type": "markdown",
   "id": "3a626051",
   "metadata": {},
   "source": [
    "**İKİ BOYUTLU ARRAYLERİ AYIRMA**"
   ]
  },
  {
   "cell_type": "code",
   "execution_count": 11,
   "id": "1f0dacda",
   "metadata": {},
   "outputs": [],
   "source": [
    "m = np.arange(16).reshape(4, 4)"
   ]
  },
  {
   "cell_type": "markdown",
   "id": "094fc0d2",
   "metadata": {},
   "source": [
    "Tek boyutlu bir array oluşturup yeniden boyutlandırdık."
   ]
  },
  {
   "cell_type": "code",
   "execution_count": 12,
   "id": "ade14cfd",
   "metadata": {},
   "outputs": [
    {
     "data": {
      "text/plain": [
       "array([[ 0,  1,  2,  3],\n",
       "       [ 4,  5,  6,  7],\n",
       "       [ 8,  9, 10, 11],\n",
       "       [12, 13, 14, 15]])"
      ]
     },
     "execution_count": 12,
     "metadata": {},
     "output_type": "execute_result"
    }
   ],
   "source": [
    "m"
   ]
  },
  {
   "cell_type": "code",
   "execution_count": 13,
   "id": "bf8959b9",
   "metadata": {},
   "outputs": [],
   "source": [
    "ust,alt = np.vsplit(m, [2]) # **Vertical Split**"
   ]
  },
  {
   "cell_type": "markdown",
   "id": "f8d79cb3",
   "metadata": {},
   "source": [
    "**___________________________________________________________**"
   ]
  },
  {
   "cell_type": "code",
   "execution_count": 14,
   "id": "b4a46703",
   "metadata": {},
   "outputs": [
    {
     "data": {
      "text/plain": [
       "array([[0, 1, 2, 3],\n",
       "       [4, 5, 6, 7]])"
      ]
     },
     "execution_count": 14,
     "metadata": {},
     "output_type": "execute_result"
    }
   ],
   "source": [
    "ust"
   ]
  },
  {
   "cell_type": "code",
   "execution_count": 15,
   "id": "7fd1f3f3",
   "metadata": {},
   "outputs": [
    {
     "data": {
      "text/plain": [
       "array([[ 8,  9, 10, 11],\n",
       "       [12, 13, 14, 15]])"
      ]
     },
     "execution_count": 15,
     "metadata": {},
     "output_type": "execute_result"
    }
   ],
   "source": [
    "alt"
   ]
  },
  {
   "cell_type": "code",
   "execution_count": 16,
   "id": "acb0e5d0",
   "metadata": {},
   "outputs": [],
   "source": [
    "sag, sol = np.hsplit(m, [2]) # **Horizantal Split**"
   ]
  },
  {
   "cell_type": "code",
   "execution_count": 17,
   "id": "5364ba4b",
   "metadata": {},
   "outputs": [
    {
     "data": {
      "text/plain": [
       "array([[ 0,  1],\n",
       "       [ 4,  5],\n",
       "       [ 8,  9],\n",
       "       [12, 13]])"
      ]
     },
     "execution_count": 17,
     "metadata": {},
     "output_type": "execute_result"
    }
   ],
   "source": [
    "sag"
   ]
  },
  {
   "cell_type": "code",
   "execution_count": 18,
   "id": "afafdb58",
   "metadata": {},
   "outputs": [
    {
     "data": {
      "text/plain": [
       "array([[ 2,  3],\n",
       "       [ 6,  7],\n",
       "       [10, 11],\n",
       "       [14, 15]])"
      ]
     },
     "execution_count": 18,
     "metadata": {},
     "output_type": "execute_result"
    }
   ],
   "source": [
    "sol"
   ]
  }
 ],
 "metadata": {
  "kernelspec": {
   "display_name": "Python 3 (ipykernel)",
   "language": "python",
   "name": "python3"
  },
  "language_info": {
   "codemirror_mode": {
    "name": "ipython",
    "version": 3
   },
   "file_extension": ".py",
   "mimetype": "text/x-python",
   "name": "python",
   "nbconvert_exporter": "python",
   "pygments_lexer": "ipython3",
   "version": "3.11.3"
  }
 },
 "nbformat": 4,
 "nbformat_minor": 5
}
