{
 "cells": [
  {
   "cell_type": "markdown",
   "id": "59dc21f3",
   "metadata": {},
   "source": [
    "# İNDEX İLE ARRAY ELEMANLARINA ERİŞMEK"
   ]
  },
  {
   "cell_type": "code",
   "execution_count": 1,
   "id": "974e7d37",
   "metadata": {},
   "outputs": [],
   "source": [
    "import numpy as np"
   ]
  },
  {
   "cell_type": "markdown",
   "id": "1f5d14db",
   "metadata": {},
   "source": [
    "**_______________________________________________________________________________________________________________**"
   ]
  },
  {
   "cell_type": "code",
   "execution_count": 12,
   "id": "a0213c08",
   "metadata": {
    "scrolled": true
   },
   "outputs": [
    {
     "data": {
      "text/plain": [
       "array([0, 1, 2, 3, 4, 5, 6, 7, 8])"
      ]
     },
     "execution_count": 12,
     "metadata": {},
     "output_type": "execute_result"
    }
   ],
   "source": [
    "a = np.arange(9)\n",
    "a"
   ]
  },
  {
   "cell_type": "markdown",
   "id": "175c6350",
   "metadata": {},
   "source": [
    "Tek boyutlu bir array oluşturuldu."
   ]
  },
  {
   "cell_type": "markdown",
   "id": "15a7c39d",
   "metadata": {},
   "source": [
    "**_______________________________________________________________________________________________________________**"
   ]
  },
  {
   "cell_type": "code",
   "execution_count": 14,
   "id": "b774b7fc",
   "metadata": {
    "scrolled": true
   },
   "outputs": [
    {
     "data": {
      "text/plain": [
       "(0, 8, 4)"
      ]
     },
     "execution_count": 14,
     "metadata": {},
     "output_type": "execute_result"
    }
   ],
   "source": [
    "a[0], a[-1], a[4]"
   ]
  },
  {
   "cell_type": "markdown",
   "id": "3cb6b289",
   "metadata": {},
   "source": [
    "Tek boyutlu arraylerde belirli bir indexin elemanına erişirken listelerde yaptığımız gibi '[ ]' parantezler içine elemanın indeksini girebiliriz."
   ]
  },
  {
   "cell_type": "markdown",
   "id": "2e546df5",
   "metadata": {},
   "source": [
    "**_______________________________________________________________________________________________________________**"
   ]
  },
  {
   "cell_type": "code",
   "execution_count": 15,
   "id": "d881de3e",
   "metadata": {},
   "outputs": [],
   "source": [
    "a[0] = 9"
   ]
  },
  {
   "cell_type": "code",
   "execution_count": 16,
   "id": "c0eb400a",
   "metadata": {},
   "outputs": [
    {
     "data": {
      "text/plain": [
       "array([9, 1, 2, 3, 4, 5, 6, 7, 8])"
      ]
     },
     "execution_count": 16,
     "metadata": {},
     "output_type": "execute_result"
    }
   ],
   "source": [
    "a"
   ]
  },
  {
   "cell_type": "markdown",
   "id": "a57c0f43",
   "metadata": {},
   "source": [
    "Girilen index'e '9' değerini atadık."
   ]
  },
  {
   "cell_type": "markdown",
   "id": "c8254af1",
   "metadata": {},
   "source": [
    "**_______________________________________________________________________________________________________________**"
   ]
  },
  {
   "cell_type": "code",
   "execution_count": 24,
   "id": "e7977d7d",
   "metadata": {},
   "outputs": [],
   "source": [
    "b = np.random.randint(10, size=(3,3))"
   ]
  },
  {
   "cell_type": "code",
   "execution_count": 25,
   "id": "66a682e7",
   "metadata": {},
   "outputs": [
    {
     "data": {
      "text/plain": [
       "array([[9, 4, 3],\n",
       "       [6, 1, 0],\n",
       "       [5, 1, 1]])"
      ]
     },
     "execution_count": 25,
     "metadata": {},
     "output_type": "execute_result"
    }
   ],
   "source": [
    "b"
   ]
  },
  {
   "cell_type": "markdown",
   "id": "17a595c5",
   "metadata": {},
   "source": [
    "İki boyutlu bir array oluşturuldu."
   ]
  },
  {
   "cell_type": "markdown",
   "id": "9e026aac",
   "metadata": {},
   "source": [
    "**_______________________________________________________________________________________________________________**"
   ]
  },
  {
   "cell_type": "code",
   "execution_count": 28,
   "id": "37b4017e",
   "metadata": {},
   "outputs": [
    {
     "data": {
      "text/plain": [
       "(9, 4, 0)"
      ]
     },
     "execution_count": 28,
     "metadata": {},
     "output_type": "execute_result"
    }
   ],
   "source": [
    "b[0,0], b[0,1], b[1,2]"
   ]
  },
  {
   "cell_type": "code",
   "execution_count": 29,
   "id": "3f0c8757",
   "metadata": {},
   "outputs": [],
   "source": [
    "b[0,0] = 10"
   ]
  },
  {
   "cell_type": "code",
   "execution_count": 30,
   "id": "86b6b441",
   "metadata": {},
   "outputs": [
    {
     "data": {
      "text/plain": [
       "array([[10,  4,  3],\n",
       "       [ 6,  1,  0],\n",
       "       [ 5,  1,  1]])"
      ]
     },
     "execution_count": 30,
     "metadata": {},
     "output_type": "execute_result"
    }
   ],
   "source": [
    "b"
   ]
  },
  {
   "cell_type": "markdown",
   "id": "56cd1ba8",
   "metadata": {},
   "source": [
    "Belirli bir indexteki elemana erişme işlemlerimiz tek boyutta yaptığımızdan pek farklı değil. b arrayi a arrayinden 1 boyut daha fazla olduğu için b arrayinde bulunan bir elemanın ikinci bir index değeri daha vardır. Bu yüzden işlemlerimize ikinci index değerinide katıyoruz."
   ]
  },
  {
   "cell_type": "markdown",
   "id": "70da2261",
   "metadata": {},
   "source": [
    "**_______________________________________________________________________________________________________________**"
   ]
  },
  {
   "cell_type": "markdown",
   "id": "fdac1e92",
   "metadata": {},
   "source": [
    "**Peki ya dtype=int olan bir arraye type' ı farklı olan bir değer eklersek ne olur?**"
   ]
  },
  {
   "cell_type": "code",
   "execution_count": 31,
   "id": "8c86ff27",
   "metadata": {},
   "outputs": [
    {
     "data": {
      "text/plain": [
       "array([[10,  4,  3],\n",
       "       [ 6,  1,  0],\n",
       "       [ 5,  1,  1]])"
      ]
     },
     "execution_count": 31,
     "metadata": {},
     "output_type": "execute_result"
    }
   ],
   "source": [
    "b"
   ]
  },
  {
   "cell_type": "code",
   "execution_count": 54,
   "id": "5c71d62b",
   "metadata": {},
   "outputs": [
    {
     "data": {
      "text/plain": [
       "dtype('int32')"
      ]
     },
     "execution_count": 54,
     "metadata": {},
     "output_type": "execute_result"
    }
   ],
   "source": [
    "b.dtype"
   ]
  },
  {
   "cell_type": "code",
   "execution_count": 47,
   "id": "a2863735",
   "metadata": {},
   "outputs": [],
   "source": [
    "b[0,0] = 3.14"
   ]
  },
  {
   "cell_type": "code",
   "execution_count": 45,
   "id": "3ef15226",
   "metadata": {},
   "outputs": [
    {
     "data": {
      "text/plain": [
       "array([[3, 4, 3],\n",
       "       [6, 1, 0],\n",
       "       [5, 1, 1]])"
      ]
     },
     "execution_count": 45,
     "metadata": {},
     "output_type": "execute_result"
    }
   ],
   "source": [
    "b"
   ]
  },
  {
   "cell_type": "code",
   "execution_count": 48,
   "id": "cc64d4ae",
   "metadata": {},
   "outputs": [
    {
     "data": {
      "text/plain": [
       "dtype('int32')"
      ]
     },
     "execution_count": 48,
     "metadata": {},
     "output_type": "execute_result"
    }
   ],
   "source": [
    "b.dtype"
   ]
  },
  {
   "cell_type": "markdown",
   "id": "b58d9514",
   "metadata": {},
   "source": [
    "Yani eğer belirli arrayin belirli bir indeksinin değerini arrayin 'dtype' dan farklı bir değere eşitlerseniz: arrayin 'dtype' ına göre type dönüşümü gerçekleşir uygun bir type dönüşümü gerçekleşmiyorsa tahmin edebileceğiniz gibi hata alırsınız."
   ]
  },
  {
   "cell_type": "code",
   "execution_count": 49,
   "id": "2c5ea7fc",
   "metadata": {
    "scrolled": true
   },
   "outputs": [
    {
     "data": {
      "text/plain": [
       "array([[3, 4, 3],\n",
       "       [6, 1, 0],\n",
       "       [5, 1, 1]])"
      ]
     },
     "execution_count": 49,
     "metadata": {},
     "output_type": "execute_result"
    }
   ],
   "source": [
    "b"
   ]
  },
  {
   "cell_type": "markdown",
   "id": "5caf27c8",
   "metadata": {},
   "source": [
    "Örnek 1"
   ]
  },
  {
   "cell_type": "code",
   "execution_count": 50,
   "id": "ab8de35a",
   "metadata": {},
   "outputs": [],
   "source": [
    "b[0,0] = '4'"
   ]
  },
  {
   "cell_type": "code",
   "execution_count": 51,
   "id": "015329a4",
   "metadata": {
    "scrolled": true
   },
   "outputs": [
    {
     "data": {
      "text/plain": [
       "array([[4, 4, 3],\n",
       "       [6, 1, 0],\n",
       "       [5, 1, 1]])"
      ]
     },
     "execution_count": 51,
     "metadata": {},
     "output_type": "execute_result"
    }
   ],
   "source": [
    "b"
   ]
  },
  {
   "cell_type": "markdown",
   "id": "04cb482a",
   "metadata": {},
   "source": [
    "'4' değeri string iken. arraye yerleştirildiğinde bu arrayin dtype=int olduğundan ( string  > > >  int ) type dönüşümü gerçekleşir."
   ]
  },
  {
   "cell_type": "markdown",
   "id": "69d60918",
   "metadata": {},
   "source": [
    "Örnek 2"
   ]
  },
  {
   "cell_type": "code",
   "execution_count": 61,
   "id": "4a202dd8",
   "metadata": {},
   "outputs": [
    {
     "ename": "ValueError",
     "evalue": "invalid literal for int() with base 10: 'T'",
     "output_type": "error",
     "traceback": [
      "\u001b[1;31m---------------------------------------------------------------------------\u001b[0m",
      "\u001b[1;31mValueError\u001b[0m                                Traceback (most recent call last)",
      "Cell \u001b[1;32mIn[61], line 1\u001b[0m\n\u001b[1;32m----> 1\u001b[0m b[\u001b[38;5;241m0\u001b[39m,\u001b[38;5;241m0\u001b[39m] \u001b[38;5;241m=\u001b[39m \u001b[38;5;124m'\u001b[39m\u001b[38;5;124mT\u001b[39m\u001b[38;5;124m'\u001b[39m\n",
      "\u001b[1;31mValueError\u001b[0m: invalid literal for int() with base 10: 'T'"
     ]
    }
   ],
   "source": [
    "b[0,0] = 'T'"
   ]
  },
  {
   "cell_type": "markdown",
   "id": "bd10fdef",
   "metadata": {},
   "source": [
    "**_______________________________________________________________________________________________________________**"
   ]
  },
  {
   "cell_type": "markdown",
   "id": "a0209ad7",
   "metadata": {},
   "source": [
    "'T' stringinin type dönüşümü gerçekleşemedi. Çünkü bu string uygun formatta değildir. Bir stringin int' e type dönüşümü gerçekleştirilebilmesi için stringin str(int()) formatında olması gerekir."
   ]
  },
  {
   "cell_type": "code",
   "execution_count": null,
   "id": "78d0f0bf",
   "metadata": {},
   "outputs": [],
   "source": []
  }
 ],
 "metadata": {
  "kernelspec": {
   "display_name": "Python 3 (ipykernel)",
   "language": "python",
   "name": "python3"
  },
  "language_info": {
   "codemirror_mode": {
    "name": "ipython",
    "version": 3
   },
   "file_extension": ".py",
   "mimetype": "text/x-python",
   "name": "python",
   "nbconvert_exporter": "python",
   "pygments_lexer": "ipython3",
   "version": "3.11.3"
  }
 },
 "nbformat": 4,
 "nbformat_minor": 5
}
