{
 "cells": [
  {
   "cell_type": "markdown",
   "id": "76bdda46-1771-473d-9b70-9d5e90d64b1a",
   "metadata": {},
   "source": [
    "# copy()"
   ]
  },
  {
   "cell_type": "code",
   "execution_count": 1,
   "id": "37c55ca0-734f-443e-a441-6fd759776099",
   "metadata": {
    "tags": []
   },
   "outputs": [],
   "source": [
    "import numpy as np"
   ]
  },
  {
   "cell_type": "code",
   "execution_count": 5,
   "id": "3b50617e-a5b6-4818-9923-0fbd5fcd02fb",
   "metadata": {
    "tags": []
   },
   "outputs": [],
   "source": [
    "m = np.random.randint(0,10, size=(5, 5))"
   ]
  },
  {
   "cell_type": "code",
   "execution_count": 6,
   "id": "ba2c3a53-9aef-4161-83fb-0f18c20cc2fa",
   "metadata": {
    "tags": []
   },
   "outputs": [
    {
     "data": {
      "text/plain": [
       "array([[6, 1, 2, 6, 1],\n",
       "       [2, 7, 0, 1, 5],\n",
       "       [6, 2, 8, 2, 0],\n",
       "       [7, 1, 6, 5, 4],\n",
       "       [2, 0, 3, 4, 7]])"
      ]
     },
     "execution_count": 6,
     "metadata": {},
     "output_type": "execute_result"
    }
   ],
   "source": [
    "m"
   ]
  },
  {
   "cell_type": "code",
   "execution_count": 7,
   "id": "a7aa5b48-d3fb-42f3-94e1-57639a4442e8",
   "metadata": {
    "tags": []
   },
   "outputs": [],
   "source": [
    "alt_a = m[0:3, 0:3]"
   ]
  },
  {
   "cell_type": "code",
   "execution_count": 8,
   "id": "6fa1b28a-aeee-4951-8e2e-258048298cb8",
   "metadata": {
    "tags": []
   },
   "outputs": [
    {
     "data": {
      "text/plain": [
       "array([[6, 1, 2],\n",
       "       [2, 7, 0],\n",
       "       [6, 2, 8]])"
      ]
     },
     "execution_count": 8,
     "metadata": {},
     "output_type": "execute_result"
    }
   ],
   "source": [
    "alt_a"
   ]
  },
  {
   "cell_type": "code",
   "execution_count": 18,
   "id": "34c9280b-f167-4592-9b9e-cf746ebac7c4",
   "metadata": {
    "tags": []
   },
   "outputs": [],
   "source": [
    "alt_a[0,0] = 33"
   ]
  },
  {
   "cell_type": "code",
   "execution_count": 11,
   "id": "7992a3b3-3082-46ef-8b04-43d6e2c243ae",
   "metadata": {
    "tags": []
   },
   "outputs": [
    {
     "data": {
      "text/plain": [
       "array([[33,  1,  2],\n",
       "       [ 2,  7,  0],\n",
       "       [ 6,  2,  8]])"
      ]
     },
     "execution_count": 11,
     "metadata": {},
     "output_type": "execute_result"
    }
   ],
   "source": [
    "alt_a"
   ]
  },
  {
   "cell_type": "code",
   "execution_count": 12,
   "id": "c19c21fc-2727-4d2b-b4e2-bdf56a38f56a",
   "metadata": {
    "tags": []
   },
   "outputs": [
    {
     "data": {
      "text/plain": [
       "array([[33,  1,  2,  6,  1],\n",
       "       [ 2,  7,  0,  1,  5],\n",
       "       [ 6,  2,  8,  2,  0],\n",
       "       [ 7,  1,  6,  5,  4],\n",
       "       [ 2,  0,  3,  4,  7]])"
      ]
     },
     "execution_count": 12,
     "metadata": {},
     "output_type": "execute_result"
    }
   ],
   "source": [
    "m"
   ]
  },
  {
   "cell_type": "code",
   "execution_count": 19,
   "id": "153a6aa7-3a0f-4017-b80c-8966d262bdab",
   "metadata": {
    "tags": []
   },
   "outputs": [],
   "source": [
    "alt_b = m[0:3, 0:3].copy()"
   ]
  },
  {
   "cell_type": "code",
   "execution_count": 20,
   "id": "fe19ce69-23f6-4244-993c-0ca3c5f932ca",
   "metadata": {
    "tags": []
   },
   "outputs": [
    {
     "data": {
      "text/plain": [
       "array([[33,  1,  2],\n",
       "       [ 2,  7,  0],\n",
       "       [ 6,  2,  8]])"
      ]
     },
     "execution_count": 20,
     "metadata": {},
     "output_type": "execute_result"
    }
   ],
   "source": [
    "alt_b"
   ]
  },
  {
   "cell_type": "code",
   "execution_count": 21,
   "id": "df496179-8de2-45d0-bf3a-acb185fb115f",
   "metadata": {
    "tags": []
   },
   "outputs": [],
   "source": [
    "alt_b[0,0] = 66"
   ]
  },
  {
   "cell_type": "code",
   "execution_count": 22,
   "id": "34bac084-20cb-44b4-9215-1e1ae3ab3d08",
   "metadata": {
    "tags": []
   },
   "outputs": [
    {
     "data": {
      "text/plain": [
       "array([[66,  1,  2],\n",
       "       [ 2,  7,  0],\n",
       "       [ 6,  2,  8]])"
      ]
     },
     "execution_count": 22,
     "metadata": {},
     "output_type": "execute_result"
    }
   ],
   "source": [
    "alt_b"
   ]
  },
  {
   "cell_type": "code",
   "execution_count": 23,
   "id": "3d73614d-d603-4cfc-a7a2-2b7396945aa2",
   "metadata": {
    "tags": []
   },
   "outputs": [
    {
     "data": {
      "text/plain": [
       "array([[33,  1,  2],\n",
       "       [ 2,  7,  0],\n",
       "       [ 6,  2,  8]])"
      ]
     },
     "execution_count": 23,
     "metadata": {},
     "output_type": "execute_result"
    }
   ],
   "source": [
    "alt_a"
   ]
  },
  {
   "cell_type": "code",
   "execution_count": 24,
   "id": "3e614609-5d2c-4408-8d33-8461ee7076a3",
   "metadata": {
    "tags": []
   },
   "outputs": [
    {
     "data": {
      "text/plain": [
       "array([[33,  1,  2,  6,  1],\n",
       "       [ 2,  7,  0,  1,  5],\n",
       "       [ 6,  2,  8,  2,  0],\n",
       "       [ 7,  1,  6,  5,  4],\n",
       "       [ 2,  0,  3,  4,  7]])"
      ]
     },
     "execution_count": 24,
     "metadata": {},
     "output_type": "execute_result"
    }
   ],
   "source": [
    "m"
   ]
  },
  {
   "cell_type": "code",
   "execution_count": null,
   "id": "02c93874-c4c3-47f0-935e-44e3dad5095e",
   "metadata": {},
   "outputs": [],
   "source": []
  }
 ],
 "metadata": {
  "kernelspec": {
   "display_name": "Python 3 (ipykernel)",
   "language": "python",
   "name": "python3"
  },
  "language_info": {
   "codemirror_mode": {
    "name": "ipython",
    "version": 3
   },
   "file_extension": ".py",
   "mimetype": "text/x-python",
   "name": "python",
   "nbconvert_exporter": "python",
   "pygments_lexer": "ipython3",
   "version": "3.11.3"
  }
 },
 "nbformat": 4,
 "nbformat_minor": 5
}
