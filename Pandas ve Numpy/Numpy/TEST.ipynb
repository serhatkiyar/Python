{
 "cells": [
  {
   "cell_type": "code",
   "execution_count": 61,
   "id": "a2b99878",
   "metadata": {},
   "outputs": [],
   "source": [
    "import numpy as np"
   ]
  },
  {
   "cell_type": "code",
   "execution_count": 66,
   "id": "86220571",
   "metadata": {},
   "outputs": [],
   "source": [
    "array1 = np.random.randint(0, 10, (3, 3))"
   ]
  },
  {
   "cell_type": "code",
   "execution_count": 70,
   "id": "e9671d74",
   "metadata": {},
   "outputs": [
    {
     "data": {
      "text/plain": [
       "(3, 3)"
      ]
     },
     "execution_count": 70,
     "metadata": {},
     "output_type": "execute_result"
    }
   ],
   "source": [
    "array1.shape"
   ]
  },
  {
   "cell_type": "code",
   "execution_count": 71,
   "id": "18bff966",
   "metadata": {},
   "outputs": [
    {
     "data": {
      "text/plain": [
       "dtype('int32')"
      ]
     },
     "execution_count": 71,
     "metadata": {},
     "output_type": "execute_result"
    }
   ],
   "source": [
    "array1.dtype"
   ]
  },
  {
   "cell_type": "code",
   "execution_count": 72,
   "id": "29704596",
   "metadata": {},
   "outputs": [
    {
     "data": {
      "text/plain": [
       "9"
      ]
     },
     "execution_count": 72,
     "metadata": {},
     "output_type": "execute_result"
    }
   ],
   "source": [
    "array1.size"
   ]
  },
  {
   "cell_type": "code",
   "execution_count": 73,
   "id": "ece6b026",
   "metadata": {},
   "outputs": [
    {
     "data": {
      "text/plain": [
       "2"
      ]
     },
     "execution_count": 73,
     "metadata": {},
     "output_type": "execute_result"
    }
   ],
   "source": [
    "array1.ndim"
   ]
  },
  {
   "cell_type": "code",
   "execution_count": 74,
   "id": "c0193694",
   "metadata": {},
   "outputs": [
    {
     "data": {
      "text/plain": [
       "array([[9, 3, 3, 7, 3, 3, 7, 0, 2]])"
      ]
     },
     "execution_count": 74,
     "metadata": {},
     "output_type": "execute_result"
    }
   ],
   "source": [
    "array1.reshape(1, 9)"
   ]
  },
  {
   "cell_type": "code",
   "execution_count": 75,
   "id": "83d34331",
   "metadata": {},
   "outputs": [
    {
     "data": {
      "text/plain": [
       "array([[9, 3, 3],\n",
       "       [7, 3, 3],\n",
       "       [7, 0, 2]])"
      ]
     },
     "execution_count": 75,
     "metadata": {},
     "output_type": "execute_result"
    }
   ],
   "source": [
    "array1"
   ]
  },
  {
   "cell_type": "code",
   "execution_count": 93,
   "id": "9b6f1a92",
   "metadata": {},
   "outputs": [],
   "source": [
    "array1.sort()"
   ]
  },
  {
   "cell_type": "code",
   "execution_count": 94,
   "id": "4be1a815",
   "metadata": {},
   "outputs": [
    {
     "data": {
      "text/plain": [
       "array([[6, 8, 9],\n",
       "       [2, 6, 8],\n",
       "       [6, 7, 7]])"
      ]
     },
     "execution_count": 94,
     "metadata": {},
     "output_type": "execute_result"
    }
   ],
   "source": [
    "array1"
   ]
  },
  {
   "cell_type": "code",
   "execution_count": 102,
   "id": "77acb793",
   "metadata": {},
   "outputs": [],
   "source": [
    "array1 = np.random.randint(0, 10, (3, 3))"
   ]
  },
  {
   "cell_type": "code",
   "execution_count": 92,
   "id": "ea0540f0",
   "metadata": {},
   "outputs": [
    {
     "data": {
      "text/plain": [
       "array([[9, 6, 8],\n",
       "       [8, 6, 2],\n",
       "       [6, 7, 7]])"
      ]
     },
     "execution_count": 92,
     "metadata": {},
     "output_type": "execute_result"
    }
   ],
   "source": [
    "array1"
   ]
  },
  {
   "cell_type": "code",
   "execution_count": 96,
   "id": "9a26abef",
   "metadata": {},
   "outputs": [],
   "source": [
    "array1 = array1.reshape(1, 9)"
   ]
  },
  {
   "cell_type": "code",
   "execution_count": 97,
   "id": "f5ac67a5",
   "metadata": {},
   "outputs": [],
   "source": [
    "array1.sort()"
   ]
  },
  {
   "cell_type": "code",
   "execution_count": 98,
   "id": "9e6a35de",
   "metadata": {},
   "outputs": [
    {
     "data": {
      "text/plain": [
       "array([[2, 6, 6, 6, 7, 7, 8, 8, 9]])"
      ]
     },
     "execution_count": 98,
     "metadata": {},
     "output_type": "execute_result"
    }
   ],
   "source": [
    "array1"
   ]
  },
  {
   "cell_type": "code",
   "execution_count": 100,
   "id": "906f157e",
   "metadata": {},
   "outputs": [],
   "source": [
    "array1 = array1.reshape(3, 3)"
   ]
  },
  {
   "cell_type": "code",
   "execution_count": 101,
   "id": "22385da0",
   "metadata": {},
   "outputs": [
    {
     "data": {
      "text/plain": [
       "array([[2, 6, 6],\n",
       "       [6, 7, 7],\n",
       "       [8, 8, 9]])"
      ]
     },
     "execution_count": 101,
     "metadata": {},
     "output_type": "execute_result"
    }
   ],
   "source": [
    "array1"
   ]
  },
  {
   "cell_type": "code",
   "execution_count": 115,
   "id": "99d2aa72",
   "metadata": {},
   "outputs": [],
   "source": [
    "array1 = np.random.randint(0, 10, (3, 3))"
   ]
  },
  {
   "cell_type": "code",
   "execution_count": 116,
   "id": "a8ad3037",
   "metadata": {},
   "outputs": [
    {
     "data": {
      "text/plain": [
       "array([[9, 0, 7],\n",
       "       [5, 9, 1],\n",
       "       [7, 7, 5]])"
      ]
     },
     "execution_count": 116,
     "metadata": {},
     "output_type": "execute_result"
    }
   ],
   "source": [
    "array1"
   ]
  },
  {
   "cell_type": "code",
   "execution_count": 105,
   "id": "9bcd1fe0",
   "metadata": {},
   "outputs": [],
   "source": [
    "array1.sort(axis=1)"
   ]
  },
  {
   "cell_type": "code",
   "execution_count": 106,
   "id": "14dd0bab",
   "metadata": {},
   "outputs": [
    {
     "data": {
      "text/plain": [
       "array([[3, 3, 4],\n",
       "       [0, 3, 5],\n",
       "       [1, 1, 4]])"
      ]
     },
     "execution_count": 106,
     "metadata": {},
     "output_type": "execute_result"
    }
   ],
   "source": [
    "array1"
   ]
  },
  {
   "cell_type": "code",
   "execution_count": 107,
   "id": "0e0b5590",
   "metadata": {},
   "outputs": [],
   "source": [
    "array1.sort(axis=0)"
   ]
  },
  {
   "cell_type": "code",
   "execution_count": 108,
   "id": "d97ca984",
   "metadata": {},
   "outputs": [
    {
     "data": {
      "text/plain": [
       "array([[0, 1, 4],\n",
       "       [1, 3, 4],\n",
       "       [3, 3, 5]])"
      ]
     },
     "execution_count": 108,
     "metadata": {},
     "output_type": "execute_result"
    }
   ],
   "source": [
    "array1"
   ]
  },
  {
   "cell_type": "code",
   "execution_count": 109,
   "id": "0ba8c550",
   "metadata": {},
   "outputs": [
    {
     "data": {
      "text/plain": [
       "array([[0, 1, 4],\n",
       "       [1, 3, 4],\n",
       "       [3, 3, 5]])"
      ]
     },
     "execution_count": 109,
     "metadata": {},
     "output_type": "execute_result"
    }
   ],
   "source": [
    "array1"
   ]
  },
  {
   "cell_type": "code",
   "execution_count": 121,
   "id": "b04ff259",
   "metadata": {},
   "outputs": [],
   "source": [
    "array1 = np.random.randint(0, 9, (3, 3))"
   ]
  },
  {
   "cell_type": "code",
   "execution_count": 122,
   "id": "4c23fc1e",
   "metadata": {},
   "outputs": [
    {
     "data": {
      "text/plain": [
       "array([[0, 7, 4],\n",
       "       [4, 3, 4],\n",
       "       [5, 2, 6]])"
      ]
     },
     "execution_count": 122,
     "metadata": {},
     "output_type": "execute_result"
    }
   ],
   "source": [
    "array1"
   ]
  },
  {
   "cell_type": "code",
   "execution_count": 125,
   "id": "9418f470",
   "metadata": {},
   "outputs": [],
   "source": [
    "array1 = array1.sort(axis=1)"
   ]
  },
  {
   "cell_type": "code",
   "execution_count": 127,
   "id": "f224c431",
   "metadata": {},
   "outputs": [],
   "source": [
    "array1"
   ]
  },
  {
   "cell_type": "code",
   "execution_count": 129,
   "id": "0046bde1",
   "metadata": {},
   "outputs": [
    {
     "data": {
      "text/plain": [
       "array([[0, 0, 0],\n",
       "       [0, 0, 0],\n",
       "       [0, 0, 0]])"
      ]
     },
     "execution_count": 129,
     "metadata": {},
     "output_type": "execute_result"
    }
   ],
   "source": [
    "np.zeros((3, 3), dtype=int)"
   ]
  },
  {
   "cell_type": "code",
   "execution_count": 130,
   "id": "ff0c0636",
   "metadata": {},
   "outputs": [
    {
     "data": {
      "text/plain": [
       "array([[1, 1, 1],\n",
       "       [1, 1, 1],\n",
       "       [1, 1, 1]])"
      ]
     },
     "execution_count": 130,
     "metadata": {},
     "output_type": "execute_result"
    }
   ],
   "source": [
    "np.ones((3, 3), dtype=int)"
   ]
  },
  {
   "cell_type": "code",
   "execution_count": 131,
   "id": "c1a91529",
   "metadata": {},
   "outputs": [
    {
     "data": {
      "text/plain": [
       "array([[3, 3, 3],\n",
       "       [3, 3, 3],\n",
       "       [3, 3, 3]])"
      ]
     },
     "execution_count": 131,
     "metadata": {},
     "output_type": "execute_result"
    }
   ],
   "source": [
    "np.full((3, 3), 3)"
   ]
  },
  {
   "cell_type": "code",
   "execution_count": 134,
   "id": "28b31944",
   "metadata": {},
   "outputs": [
    {
     "data": {
      "text/plain": [
       "array([ 0.,  1.,  2.,  3.,  4.,  5.,  6.,  7.,  8.,  9., 10.])"
      ]
     },
     "execution_count": 134,
     "metadata": {},
     "output_type": "execute_result"
    }
   ],
   "source": [
    "np.linspace(0, 10, 11)"
   ]
  },
  {
   "cell_type": "code",
   "execution_count": 135,
   "id": "ff3172f4",
   "metadata": {},
   "outputs": [
    {
     "data": {
      "text/plain": [
       "array([[14.38504608,  7.57064125,  5.06119485],\n",
       "       [18.11076152, 14.64884683,  8.09969581],\n",
       "       [ 5.76220841,  4.30738246, 19.84052414]])"
      ]
     },
     "execution_count": 135,
     "metadata": {},
     "output_type": "execute_result"
    }
   ],
   "source": [
    "np.random.normal(10, 5, (3, 3))"
   ]
  },
  {
   "cell_type": "code",
   "execution_count": 136,
   "id": "526a3b5a",
   "metadata": {},
   "outputs": [
    {
     "data": {
      "text/plain": [
       "array([[0.23009678, 0.08195458, 0.6774611 , 0.91499621, 0.91638154,\n",
       "        0.45495304, 0.25304104, 0.32049356, 0.91684654]])"
      ]
     },
     "execution_count": 136,
     "metadata": {},
     "output_type": "execute_result"
    }
   ],
   "source": [
    "np.random.rand(1, 9)"
   ]
  },
  {
   "cell_type": "code",
   "execution_count": 137,
   "id": "170a844a",
   "metadata": {},
   "outputs": [
    {
     "data": {
      "text/plain": [
       "array([[-1.22482767, -0.01127071,  1.18920345, -0.4828105 ,  0.89556553,\n",
       "        -1.46692288, -0.46873497, -2.3860949 , -1.54876174]])"
      ]
     },
     "execution_count": 137,
     "metadata": {},
     "output_type": "execute_result"
    }
   ],
   "source": [
    "np.random.randn(1, 9)"
   ]
  },
  {
   "cell_type": "code",
   "execution_count": 138,
   "id": "326f6e64",
   "metadata": {},
   "outputs": [
    {
     "data": {
      "text/plain": [
       "array([[1, 4, 8, 3, 1, 6, 7, 8, 1]])"
      ]
     },
     "execution_count": 138,
     "metadata": {},
     "output_type": "execute_result"
    }
   ],
   "source": [
    "np.random.randint(1, 9, (1, 9))"
   ]
  },
  {
   "cell_type": "code",
   "execution_count": 144,
   "id": "4af0597f",
   "metadata": {},
   "outputs": [
    {
     "data": {
      "text/plain": [
       "array([[1, 2, 3],\n",
       "       [4, 5, 6],\n",
       "       [7, 8, 9]])"
      ]
     },
     "execution_count": 144,
     "metadata": {},
     "output_type": "execute_result"
    }
   ],
   "source": [
    "np.arange(1, 10).reshape(3, 3)"
   ]
  },
  {
   "cell_type": "code",
   "execution_count": 146,
   "id": "79adc9a0",
   "metadata": {},
   "outputs": [],
   "source": [
    "a = np.random.randint(0, 9, (3, 3))"
   ]
  },
  {
   "cell_type": "code",
   "execution_count": 147,
   "id": "1382e9b8",
   "metadata": {},
   "outputs": [],
   "source": [
    "b = np.random.randint(0, 9, (3, 3))"
   ]
  },
  {
   "cell_type": "code",
   "execution_count": 148,
   "id": "c51bb450",
   "metadata": {},
   "outputs": [
    {
     "data": {
      "text/plain": [
       "(array([[6, 6, 5],\n",
       "        [3, 1, 4],\n",
       "        [6, 0, 0]]),\n",
       " array([[1, 7, 2],\n",
       "        [7, 0, 7],\n",
       "        [2, 7, 0]]))"
      ]
     },
     "execution_count": 148,
     "metadata": {},
     "output_type": "execute_result"
    }
   ],
   "source": [
    "a, b"
   ]
  },
  {
   "cell_type": "code",
   "execution_count": 150,
   "id": "a3dc3736",
   "metadata": {},
   "outputs": [
    {
     "data": {
      "text/plain": [
       "array([[6, 6, 5],\n",
       "       [3, 1, 4],\n",
       "       [6, 0, 0],\n",
       "       [1, 7, 2],\n",
       "       [7, 0, 7],\n",
       "       [2, 7, 0]])"
      ]
     },
     "execution_count": 150,
     "metadata": {},
     "output_type": "execute_result"
    }
   ],
   "source": [
    "np.concatenate([a, b])"
   ]
  },
  {
   "cell_type": "code",
   "execution_count": 151,
   "id": "820c1bb0",
   "metadata": {},
   "outputs": [
    {
     "data": {
      "text/plain": [
       "array([[6, 6, 5, 1, 7, 2],\n",
       "       [3, 1, 4, 7, 0, 7],\n",
       "       [6, 0, 0, 2, 7, 0]])"
      ]
     },
     "execution_count": 151,
     "metadata": {},
     "output_type": "execute_result"
    }
   ],
   "source": [
    "np.concatenate([a, b], axis=1)"
   ]
  },
  {
   "cell_type": "code",
   "execution_count": 152,
   "id": "88af1243",
   "metadata": {},
   "outputs": [
    {
     "data": {
      "text/plain": [
       "array([[1, 7, 2, 6, 6, 5],\n",
       "       [7, 0, 7, 3, 1, 4],\n",
       "       [2, 7, 0, 6, 0, 0]])"
      ]
     },
     "execution_count": 152,
     "metadata": {},
     "output_type": "execute_result"
    }
   ],
   "source": [
    "np.concatenate([b, a], axis=1)"
   ]
  },
  {
   "cell_type": "code",
   "execution_count": 159,
   "id": "08a23f9b",
   "metadata": {},
   "outputs": [
    {
     "data": {
      "text/plain": [
       "array([[1, 2, 3],\n",
       "       [4, 5, 6]])"
      ]
     },
     "execution_count": 159,
     "metadata": {},
     "output_type": "execute_result"
    }
   ],
   "source": [
    "np.concatenate([np.array([1, 2, 3]).reshape(1, 3), np.array([4, 5, 6]).reshape(1, 3)], axis=0)"
   ]
  },
  {
   "cell_type": "code",
   "execution_count": 162,
   "id": "4aee7e6f",
   "metadata": {},
   "outputs": [],
   "source": [
    "array2 = np.random.randint(0, 9, (4, 4))"
   ]
  },
  {
   "cell_type": "code",
   "execution_count": 163,
   "id": "c987e806",
   "metadata": {},
   "outputs": [
    {
     "data": {
      "text/plain": [
       "array([[7, 5, 1, 7],\n",
       "       [2, 6, 5, 5],\n",
       "       [4, 8, 8, 3],\n",
       "       [1, 6, 8, 1]])"
      ]
     },
     "execution_count": 163,
     "metadata": {},
     "output_type": "execute_result"
    }
   ],
   "source": [
    "array2"
   ]
  },
  {
   "cell_type": "code",
   "execution_count": 168,
   "id": "363de9fc",
   "metadata": {},
   "outputs": [
    {
     "data": {
      "text/plain": [
       "[array([[7, 5, 1, 7],\n",
       "        [2, 6, 5, 5]]),\n",
       " array([[4, 8, 8, 3],\n",
       "        [1, 6, 8, 1]])]"
      ]
     },
     "execution_count": 168,
     "metadata": {},
     "output_type": "execute_result"
    }
   ],
   "source": [
    "np.vsplit(array2, 2)"
   ]
  },
  {
   "cell_type": "code",
   "execution_count": 169,
   "id": "ac40a3d2",
   "metadata": {},
   "outputs": [
    {
     "data": {
      "text/plain": [
       "[array([[7, 5],\n",
       "        [2, 6],\n",
       "        [4, 8],\n",
       "        [1, 6]]),\n",
       " array([[1, 7],\n",
       "        [5, 5],\n",
       "        [8, 3],\n",
       "        [8, 1]])]"
      ]
     },
     "execution_count": 169,
     "metadata": {},
     "output_type": "execute_result"
    }
   ],
   "source": [
    "np.hsplit(array2, 2)"
   ]
  },
  {
   "cell_type": "code",
   "execution_count": 170,
   "id": "796feac5",
   "metadata": {},
   "outputs": [],
   "source": [
    "lineer_array = np.arange(1, 9)"
   ]
  },
  {
   "cell_type": "code",
   "execution_count": 171,
   "id": "3aa95019",
   "metadata": {},
   "outputs": [
    {
     "data": {
      "text/plain": [
       "array([1, 2, 3, 4, 5, 6, 7, 8])"
      ]
     },
     "execution_count": 171,
     "metadata": {},
     "output_type": "execute_result"
    }
   ],
   "source": [
    "lineer_array"
   ]
  },
  {
   "cell_type": "code",
   "execution_count": null,
   "id": "c2e1ae92",
   "metadata": {},
   "outputs": [],
   "source": [
    "lineer_array.sp"
   ]
  }
 ],
 "metadata": {
  "kernelspec": {
   "display_name": "Python 3 (ipykernel)",
   "language": "python",
   "name": "python3"
  },
  "language_info": {
   "codemirror_mode": {
    "name": "ipython",
    "version": 3
   },
   "file_extension": ".py",
   "mimetype": "text/x-python",
   "name": "python",
   "nbconvert_exporter": "python",
   "pygments_lexer": "ipython3",
   "version": "3.11.3"
  }
 },
 "nbformat": 4,
 "nbformat_minor": 5
}
