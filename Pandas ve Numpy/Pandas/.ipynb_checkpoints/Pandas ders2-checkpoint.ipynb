{
 "cells": [
  {
   "cell_type": "code",
   "execution_count": 52,
   "id": "fca5ea6f",
   "metadata": {},
   "outputs": [],
   "source": [
    "import numpy as np\n",
    "import pandas as pd\n",
    "from numpy.random import randn"
   ]
  },
  {
   "cell_type": "code",
   "execution_count": 53,
   "id": "fafa2c53",
   "metadata": {},
   "outputs": [],
   "source": [
    "outerindex = [\"Group1\", \"Group1\", \"Group1\", \"Group2\", \"Group2\", \"Group2\",\"Group3\", \"Group3\", \"Group3\",]\n",
    "innerindex = [\"index1\", \"index2\", \"index3\", \"index1\", \"index2\", \"index3\", \"index1\", \"index2\", \"index3\"]"
   ]
  },
  {
   "cell_type": "code",
   "execution_count": 54,
   "id": "75a1fb48",
   "metadata": {},
   "outputs": [
    {
     "data": {
      "text/plain": [
       "[('Group1', 'index1'),\n",
       " ('Group1', 'index2'),\n",
       " ('Group1', 'index3'),\n",
       " ('Group2', 'index1'),\n",
       " ('Group2', 'index2'),\n",
       " ('Group2', 'index3'),\n",
       " ('Group3', 'index1'),\n",
       " ('Group3', 'index2'),\n",
       " ('Group3', 'index3')]"
      ]
     },
     "execution_count": 54,
     "metadata": {},
     "output_type": "execute_result"
    }
   ],
   "source": [
    "hierarchy = list(zip(outerindex, innerindex))\n",
    "hierarchy"
   ]
  },
  {
   "cell_type": "code",
   "execution_count": 55,
   "id": "588c3798",
   "metadata": {},
   "outputs": [
    {
     "data": {
      "text/plain": [
       "MultiIndex([('Group1', 'index1'),\n",
       "            ('Group1', 'index2'),\n",
       "            ('Group1', 'index3'),\n",
       "            ('Group2', 'index1'),\n",
       "            ('Group2', 'index2'),\n",
       "            ('Group2', 'index3'),\n",
       "            ('Group3', 'index1'),\n",
       "            ('Group3', 'index2'),\n",
       "            ('Group3', 'index3')],\n",
       "           )"
      ]
     },
     "execution_count": 55,
     "metadata": {},
     "output_type": "execute_result"
    }
   ],
   "source": [
    "hierarchy = pd.MultiIndex.from_tuples(hierarchy)\n",
    "hierarchy"
   ]
  },
  {
   "cell_type": "code",
   "execution_count": 56,
   "id": "e55ed86e",
   "metadata": {},
   "outputs": [
    {
     "data": {
      "text/html": [
       "<div>\n",
       "<style scoped>\n",
       "    .dataframe tbody tr th:only-of-type {\n",
       "        vertical-align: middle;\n",
       "    }\n",
       "\n",
       "    .dataframe tbody tr th {\n",
       "        vertical-align: top;\n",
       "    }\n",
       "\n",
       "    .dataframe thead th {\n",
       "        text-align: right;\n",
       "    }\n",
       "</style>\n",
       "<table border=\"1\" class=\"dataframe\">\n",
       "  <thead>\n",
       "    <tr style=\"text-align: right;\">\n",
       "      <th></th>\n",
       "      <th></th>\n",
       "      <th>A</th>\n",
       "      <th>B</th>\n",
       "      <th>C</th>\n",
       "    </tr>\n",
       "  </thead>\n",
       "  <tbody>\n",
       "    <tr>\n",
       "      <th rowspan=\"3\" valign=\"top\">Group1</th>\n",
       "      <th>index1</th>\n",
       "      <td>0.202841</td>\n",
       "      <td>-1.664463</td>\n",
       "      <td>1.130436</td>\n",
       "    </tr>\n",
       "    <tr>\n",
       "      <th>index2</th>\n",
       "      <td>-0.971448</td>\n",
       "      <td>-0.006409</td>\n",
       "      <td>-0.290861</td>\n",
       "    </tr>\n",
       "    <tr>\n",
       "      <th>index3</th>\n",
       "      <td>0.146335</td>\n",
       "      <td>-0.194778</td>\n",
       "      <td>-0.602232</td>\n",
       "    </tr>\n",
       "    <tr>\n",
       "      <th rowspan=\"3\" valign=\"top\">Group2</th>\n",
       "      <th>index1</th>\n",
       "      <td>-0.692649</td>\n",
       "      <td>-1.440310</td>\n",
       "      <td>-0.321270</td>\n",
       "    </tr>\n",
       "    <tr>\n",
       "      <th>index2</th>\n",
       "      <td>0.118097</td>\n",
       "      <td>-0.419525</td>\n",
       "      <td>-0.023999</td>\n",
       "    </tr>\n",
       "    <tr>\n",
       "      <th>index3</th>\n",
       "      <td>-0.065350</td>\n",
       "      <td>-0.506201</td>\n",
       "      <td>-1.441233</td>\n",
       "    </tr>\n",
       "    <tr>\n",
       "      <th rowspan=\"3\" valign=\"top\">Group3</th>\n",
       "      <th>index1</th>\n",
       "      <td>2.359283</td>\n",
       "      <td>-0.350892</td>\n",
       "      <td>1.549986</td>\n",
       "    </tr>\n",
       "    <tr>\n",
       "      <th>index2</th>\n",
       "      <td>-0.451899</td>\n",
       "      <td>-0.061017</td>\n",
       "      <td>0.043503</td>\n",
       "    </tr>\n",
       "    <tr>\n",
       "      <th>index3</th>\n",
       "      <td>-0.908157</td>\n",
       "      <td>-1.491150</td>\n",
       "      <td>-0.229376</td>\n",
       "    </tr>\n",
       "  </tbody>\n",
       "</table>\n",
       "</div>"
      ],
      "text/plain": [
       "                      A         B         C\n",
       "Group1 index1  0.202841 -1.664463  1.130436\n",
       "       index2 -0.971448 -0.006409 -0.290861\n",
       "       index3  0.146335 -0.194778 -0.602232\n",
       "Group2 index1 -0.692649 -1.440310 -0.321270\n",
       "       index2  0.118097 -0.419525 -0.023999\n",
       "       index3 -0.065350 -0.506201 -1.441233\n",
       "Group3 index1  2.359283 -0.350892  1.549986\n",
       "       index2 -0.451899 -0.061017  0.043503\n",
       "       index3 -0.908157 -1.491150 -0.229376"
      ]
     },
     "execution_count": 56,
     "metadata": {},
     "output_type": "execute_result"
    }
   ],
   "source": [
    "df = pd.DataFrame(randn(9, 3), hierarchy, [\"A\", \"B\", \"C\"])\n",
    "df"
   ]
  },
  {
   "cell_type": "code",
   "execution_count": 57,
   "id": "47d23f98",
   "metadata": {},
   "outputs": [
    {
     "data": {
      "text/html": [
       "<div>\n",
       "<style scoped>\n",
       "    .dataframe tbody tr th:only-of-type {\n",
       "        vertical-align: middle;\n",
       "    }\n",
       "\n",
       "    .dataframe tbody tr th {\n",
       "        vertical-align: top;\n",
       "    }\n",
       "\n",
       "    .dataframe thead th {\n",
       "        text-align: right;\n",
       "    }\n",
       "</style>\n",
       "<table border=\"1\" class=\"dataframe\">\n",
       "  <thead>\n",
       "    <tr style=\"text-align: right;\">\n",
       "      <th></th>\n",
       "      <th>A</th>\n",
       "      <th>B</th>\n",
       "      <th>C</th>\n",
       "    </tr>\n",
       "  </thead>\n",
       "  <tbody>\n",
       "    <tr>\n",
       "      <th>index1</th>\n",
       "      <td>0.202841</td>\n",
       "      <td>-1.664463</td>\n",
       "      <td>1.130436</td>\n",
       "    </tr>\n",
       "    <tr>\n",
       "      <th>index2</th>\n",
       "      <td>-0.971448</td>\n",
       "      <td>-0.006409</td>\n",
       "      <td>-0.290861</td>\n",
       "    </tr>\n",
       "    <tr>\n",
       "      <th>index3</th>\n",
       "      <td>0.146335</td>\n",
       "      <td>-0.194778</td>\n",
       "      <td>-0.602232</td>\n",
       "    </tr>\n",
       "  </tbody>\n",
       "</table>\n",
       "</div>"
      ],
      "text/plain": [
       "               A         B         C\n",
       "index1  0.202841 -1.664463  1.130436\n",
       "index2 -0.971448 -0.006409 -0.290861\n",
       "index3  0.146335 -0.194778 -0.602232"
      ]
     },
     "execution_count": 57,
     "metadata": {},
     "output_type": "execute_result"
    }
   ],
   "source": [
    "df.loc[\"Group1\"]"
   ]
  },
  {
   "cell_type": "code",
   "execution_count": 58,
   "id": "15602c35",
   "metadata": {},
   "outputs": [
    {
     "data": {
      "text/html": [
       "<div>\n",
       "<style scoped>\n",
       "    .dataframe tbody tr th:only-of-type {\n",
       "        vertical-align: middle;\n",
       "    }\n",
       "\n",
       "    .dataframe tbody tr th {\n",
       "        vertical-align: top;\n",
       "    }\n",
       "\n",
       "    .dataframe thead th {\n",
       "        text-align: right;\n",
       "    }\n",
       "</style>\n",
       "<table border=\"1\" class=\"dataframe\">\n",
       "  <thead>\n",
       "    <tr style=\"text-align: right;\">\n",
       "      <th></th>\n",
       "      <th>A</th>\n",
       "      <th>B</th>\n",
       "      <th>C</th>\n",
       "    </tr>\n",
       "  </thead>\n",
       "  <tbody>\n",
       "    <tr>\n",
       "      <th>index1</th>\n",
       "      <td>-0.692649</td>\n",
       "      <td>-1.440310</td>\n",
       "      <td>-0.321270</td>\n",
       "    </tr>\n",
       "    <tr>\n",
       "      <th>index2</th>\n",
       "      <td>0.118097</td>\n",
       "      <td>-0.419525</td>\n",
       "      <td>-0.023999</td>\n",
       "    </tr>\n",
       "    <tr>\n",
       "      <th>index3</th>\n",
       "      <td>-0.065350</td>\n",
       "      <td>-0.506201</td>\n",
       "      <td>-1.441233</td>\n",
       "    </tr>\n",
       "  </tbody>\n",
       "</table>\n",
       "</div>"
      ],
      "text/plain": [
       "               A         B         C\n",
       "index1 -0.692649 -1.440310 -0.321270\n",
       "index2  0.118097 -0.419525 -0.023999\n",
       "index3 -0.065350 -0.506201 -1.441233"
      ]
     },
     "execution_count": 58,
     "metadata": {},
     "output_type": "execute_result"
    }
   ],
   "source": [
    "df.loc[\"Group2\"]"
   ]
  },
  {
   "cell_type": "code",
   "execution_count": 59,
   "id": "6bf40501",
   "metadata": {},
   "outputs": [
    {
     "data": {
      "text/html": [
       "<div>\n",
       "<style scoped>\n",
       "    .dataframe tbody tr th:only-of-type {\n",
       "        vertical-align: middle;\n",
       "    }\n",
       "\n",
       "    .dataframe tbody tr th {\n",
       "        vertical-align: top;\n",
       "    }\n",
       "\n",
       "    .dataframe thead th {\n",
       "        text-align: right;\n",
       "    }\n",
       "</style>\n",
       "<table border=\"1\" class=\"dataframe\">\n",
       "  <thead>\n",
       "    <tr style=\"text-align: right;\">\n",
       "      <th></th>\n",
       "      <th>A</th>\n",
       "      <th>B</th>\n",
       "      <th>C</th>\n",
       "    </tr>\n",
       "  </thead>\n",
       "  <tbody>\n",
       "    <tr>\n",
       "      <th>index1</th>\n",
       "      <td>2.359283</td>\n",
       "      <td>-0.350892</td>\n",
       "      <td>1.549986</td>\n",
       "    </tr>\n",
       "    <tr>\n",
       "      <th>index2</th>\n",
       "      <td>-0.451899</td>\n",
       "      <td>-0.061017</td>\n",
       "      <td>0.043503</td>\n",
       "    </tr>\n",
       "    <tr>\n",
       "      <th>index3</th>\n",
       "      <td>-0.908157</td>\n",
       "      <td>-1.491150</td>\n",
       "      <td>-0.229376</td>\n",
       "    </tr>\n",
       "  </tbody>\n",
       "</table>\n",
       "</div>"
      ],
      "text/plain": [
       "               A         B         C\n",
       "index1  2.359283 -0.350892  1.549986\n",
       "index2 -0.451899 -0.061017  0.043503\n",
       "index3 -0.908157 -1.491150 -0.229376"
      ]
     },
     "execution_count": 59,
     "metadata": {},
     "output_type": "execute_result"
    }
   ],
   "source": [
    "df.loc[\"Group3\"]"
   ]
  },
  {
   "cell_type": "code",
   "execution_count": 62,
   "id": "53d0357d",
   "metadata": {},
   "outputs": [
    {
     "data": {
      "text/plain": [
       "A    2.359283\n",
       "B   -0.350892\n",
       "C    1.549986\n",
       "Name: index1, dtype: float64"
      ]
     },
     "execution_count": 62,
     "metadata": {},
     "output_type": "execute_result"
    }
   ],
   "source": [
    "df.loc[\"Group3\"].loc[\"index1\"]"
   ]
  },
  {
   "cell_type": "code",
   "execution_count": 63,
   "id": "7a943982",
   "metadata": {},
   "outputs": [
    {
     "data": {
      "text/plain": [
       "2.359282777312344"
      ]
     },
     "execution_count": 63,
     "metadata": {},
     "output_type": "execute_result"
    }
   ],
   "source": [
    "df.loc[\"Group3\"].loc[\"index1\"].loc[\"A\"]"
   ]
  },
  {
   "cell_type": "code",
   "execution_count": 65,
   "id": "8ce4206b",
   "metadata": {},
   "outputs": [
    {
     "data": {
      "text/plain": [
       "FrozenList([None, None])"
      ]
     },
     "execution_count": 65,
     "metadata": {},
     "output_type": "execute_result"
    }
   ],
   "source": [
    "df.index.names"
   ]
  },
  {
   "cell_type": "code",
   "execution_count": 71,
   "id": "ab48997f",
   "metadata": {},
   "outputs": [],
   "source": [
    "df.index.names = [\"Groups\", \"İndexes\"]"
   ]
  },
  {
   "cell_type": "code",
   "execution_count": 72,
   "id": "7f6b1973",
   "metadata": {},
   "outputs": [
    {
     "data": {
      "text/html": [
       "<div>\n",
       "<style scoped>\n",
       "    .dataframe tbody tr th:only-of-type {\n",
       "        vertical-align: middle;\n",
       "    }\n",
       "\n",
       "    .dataframe tbody tr th {\n",
       "        vertical-align: top;\n",
       "    }\n",
       "\n",
       "    .dataframe thead th {\n",
       "        text-align: right;\n",
       "    }\n",
       "</style>\n",
       "<table border=\"1\" class=\"dataframe\">\n",
       "  <thead>\n",
       "    <tr style=\"text-align: right;\">\n",
       "      <th></th>\n",
       "      <th></th>\n",
       "      <th>A</th>\n",
       "      <th>B</th>\n",
       "      <th>C</th>\n",
       "    </tr>\n",
       "    <tr>\n",
       "      <th>Groups</th>\n",
       "      <th>İndexes</th>\n",
       "      <th></th>\n",
       "      <th></th>\n",
       "      <th></th>\n",
       "    </tr>\n",
       "  </thead>\n",
       "  <tbody>\n",
       "    <tr>\n",
       "      <th rowspan=\"3\" valign=\"top\">Group1</th>\n",
       "      <th>index1</th>\n",
       "      <td>0.202841</td>\n",
       "      <td>-1.664463</td>\n",
       "      <td>1.130436</td>\n",
       "    </tr>\n",
       "    <tr>\n",
       "      <th>index2</th>\n",
       "      <td>-0.971448</td>\n",
       "      <td>-0.006409</td>\n",
       "      <td>-0.290861</td>\n",
       "    </tr>\n",
       "    <tr>\n",
       "      <th>index3</th>\n",
       "      <td>0.146335</td>\n",
       "      <td>-0.194778</td>\n",
       "      <td>-0.602232</td>\n",
       "    </tr>\n",
       "    <tr>\n",
       "      <th rowspan=\"3\" valign=\"top\">Group2</th>\n",
       "      <th>index1</th>\n",
       "      <td>-0.692649</td>\n",
       "      <td>-1.440310</td>\n",
       "      <td>-0.321270</td>\n",
       "    </tr>\n",
       "    <tr>\n",
       "      <th>index2</th>\n",
       "      <td>0.118097</td>\n",
       "      <td>-0.419525</td>\n",
       "      <td>-0.023999</td>\n",
       "    </tr>\n",
       "    <tr>\n",
       "      <th>index3</th>\n",
       "      <td>-0.065350</td>\n",
       "      <td>-0.506201</td>\n",
       "      <td>-1.441233</td>\n",
       "    </tr>\n",
       "    <tr>\n",
       "      <th rowspan=\"3\" valign=\"top\">Group3</th>\n",
       "      <th>index1</th>\n",
       "      <td>2.359283</td>\n",
       "      <td>-0.350892</td>\n",
       "      <td>1.549986</td>\n",
       "    </tr>\n",
       "    <tr>\n",
       "      <th>index2</th>\n",
       "      <td>-0.451899</td>\n",
       "      <td>-0.061017</td>\n",
       "      <td>0.043503</td>\n",
       "    </tr>\n",
       "    <tr>\n",
       "      <th>index3</th>\n",
       "      <td>-0.908157</td>\n",
       "      <td>-1.491150</td>\n",
       "      <td>-0.229376</td>\n",
       "    </tr>\n",
       "  </tbody>\n",
       "</table>\n",
       "</div>"
      ],
      "text/plain": [
       "                       A         B         C\n",
       "Groups İndexes                              \n",
       "Group1 index1   0.202841 -1.664463  1.130436\n",
       "       index2  -0.971448 -0.006409 -0.290861\n",
       "       index3   0.146335 -0.194778 -0.602232\n",
       "Group2 index1  -0.692649 -1.440310 -0.321270\n",
       "       index2   0.118097 -0.419525 -0.023999\n",
       "       index3  -0.065350 -0.506201 -1.441233\n",
       "Group3 index1   2.359283 -0.350892  1.549986\n",
       "       index2  -0.451899 -0.061017  0.043503\n",
       "       index3  -0.908157 -1.491150 -0.229376"
      ]
     },
     "execution_count": 72,
     "metadata": {},
     "output_type": "execute_result"
    }
   ],
   "source": [
    "df"
   ]
  },
  {
   "cell_type": "code",
   "execution_count": 77,
   "id": "9bb5662e",
   "metadata": {},
   "outputs": [
    {
     "data": {
      "text/html": [
       "<div>\n",
       "<style scoped>\n",
       "    .dataframe tbody tr th:only-of-type {\n",
       "        vertical-align: middle;\n",
       "    }\n",
       "\n",
       "    .dataframe tbody tr th {\n",
       "        vertical-align: top;\n",
       "    }\n",
       "\n",
       "    .dataframe thead th {\n",
       "        text-align: right;\n",
       "    }\n",
       "</style>\n",
       "<table border=\"1\" class=\"dataframe\">\n",
       "  <thead>\n",
       "    <tr style=\"text-align: right;\">\n",
       "      <th></th>\n",
       "      <th></th>\n",
       "      <th>A</th>\n",
       "      <th>B</th>\n",
       "      <th>C</th>\n",
       "    </tr>\n",
       "    <tr>\n",
       "      <th>Groups</th>\n",
       "      <th>İndexes</th>\n",
       "      <th></th>\n",
       "      <th></th>\n",
       "      <th></th>\n",
       "    </tr>\n",
       "  </thead>\n",
       "  <tbody>\n",
       "    <tr>\n",
       "      <th rowspan=\"3\" valign=\"top\">Group1</th>\n",
       "      <th>index1</th>\n",
       "      <td>0.202841</td>\n",
       "      <td>-1.664463</td>\n",
       "      <td>1.130436</td>\n",
       "    </tr>\n",
       "    <tr>\n",
       "      <th>index2</th>\n",
       "      <td>-0.971448</td>\n",
       "      <td>-0.006409</td>\n",
       "      <td>-0.290861</td>\n",
       "    </tr>\n",
       "    <tr>\n",
       "      <th>index3</th>\n",
       "      <td>0.146335</td>\n",
       "      <td>-0.194778</td>\n",
       "      <td>-0.602232</td>\n",
       "    </tr>\n",
       "    <tr>\n",
       "      <th rowspan=\"3\" valign=\"top\">Group2</th>\n",
       "      <th>index1</th>\n",
       "      <td>-0.692649</td>\n",
       "      <td>-1.440310</td>\n",
       "      <td>-0.321270</td>\n",
       "    </tr>\n",
       "    <tr>\n",
       "      <th>index2</th>\n",
       "      <td>0.118097</td>\n",
       "      <td>-0.419525</td>\n",
       "      <td>-0.023999</td>\n",
       "    </tr>\n",
       "    <tr>\n",
       "      <th>index3</th>\n",
       "      <td>-0.065350</td>\n",
       "      <td>-0.506201</td>\n",
       "      <td>-1.441233</td>\n",
       "    </tr>\n",
       "  </tbody>\n",
       "</table>\n",
       "</div>"
      ],
      "text/plain": [
       "                       A         B         C\n",
       "Groups İndexes                              \n",
       "Group1 index1   0.202841 -1.664463  1.130436\n",
       "       index2  -0.971448 -0.006409 -0.290861\n",
       "       index3   0.146335 -0.194778 -0.602232\n",
       "Group2 index1  -0.692649 -1.440310 -0.321270\n",
       "       index2   0.118097 -0.419525 -0.023999\n",
       "       index3  -0.065350 -0.506201 -1.441233"
      ]
     },
     "execution_count": 77,
     "metadata": {},
     "output_type": "execute_result"
    }
   ],
   "source": [
    "df.loc[[\"Group1\", \"Group2\"]]"
   ]
  },
  {
   "cell_type": "code",
   "execution_count": 78,
   "id": "4fcf4218",
   "metadata": {},
   "outputs": [
    {
     "data": {
      "text/html": [
       "<div>\n",
       "<style scoped>\n",
       "    .dataframe tbody tr th:only-of-type {\n",
       "        vertical-align: middle;\n",
       "    }\n",
       "\n",
       "    .dataframe tbody tr th {\n",
       "        vertical-align: top;\n",
       "    }\n",
       "\n",
       "    .dataframe thead th {\n",
       "        text-align: right;\n",
       "    }\n",
       "</style>\n",
       "<table border=\"1\" class=\"dataframe\">\n",
       "  <thead>\n",
       "    <tr style=\"text-align: right;\">\n",
       "      <th></th>\n",
       "      <th>A</th>\n",
       "      <th>B</th>\n",
       "      <th>C</th>\n",
       "    </tr>\n",
       "    <tr>\n",
       "      <th>İndexes</th>\n",
       "      <th></th>\n",
       "      <th></th>\n",
       "      <th></th>\n",
       "    </tr>\n",
       "  </thead>\n",
       "  <tbody>\n",
       "    <tr>\n",
       "      <th>index1</th>\n",
       "      <td>0.202841</td>\n",
       "      <td>-1.664463</td>\n",
       "      <td>1.130436</td>\n",
       "    </tr>\n",
       "    <tr>\n",
       "      <th>index2</th>\n",
       "      <td>-0.971448</td>\n",
       "      <td>-0.006409</td>\n",
       "      <td>-0.290861</td>\n",
       "    </tr>\n",
       "    <tr>\n",
       "      <th>index3</th>\n",
       "      <td>0.146335</td>\n",
       "      <td>-0.194778</td>\n",
       "      <td>-0.602232</td>\n",
       "    </tr>\n",
       "  </tbody>\n",
       "</table>\n",
       "</div>"
      ],
      "text/plain": [
       "                A         B         C\n",
       "İndexes                              \n",
       "index1   0.202841 -1.664463  1.130436\n",
       "index2  -0.971448 -0.006409 -0.290861\n",
       "index3   0.146335 -0.194778 -0.602232"
      ]
     },
     "execution_count": 78,
     "metadata": {},
     "output_type": "execute_result"
    }
   ],
   "source": [
    "df.loc[\"Group1\"]"
   ]
  },
  {
   "cell_type": "code",
   "execution_count": 79,
   "id": "d58728ee",
   "metadata": {},
   "outputs": [],
   "source": [
    "outerindeksler = [\"Group1\", \"Group1\", \"Group1\", \"Group2\", \"Group2\", \"Group2\", \"Group3\", \"Group3\", \"Group3\"]\n",
    "innerindeksler = [\"index1\", \"index2\", \"index3\", \"index1\", \"index2\", \"index3\", \"index1\", \"index2\", \"index3\"]\n",
    "liste = list(zip(outerindeksler, innerindeksler))\n",
    "multiindeks_objesi = pd.MultiIndex.from_tuples(liste)\n",
    "data = randn(9, 3)\n",
    "colomns = [\"Colomn1\", \"Colomn2\", \"Colomn3\"]\n",
    "\n",
    "df = pd.DataFrame(data, multiindeks_objesi, colomns)"
   ]
  },
  {
   "cell_type": "code",
   "execution_count": 80,
   "id": "f6edabc9",
   "metadata": {},
   "outputs": [
    {
     "data": {
      "text/html": [
       "<div>\n",
       "<style scoped>\n",
       "    .dataframe tbody tr th:only-of-type {\n",
       "        vertical-align: middle;\n",
       "    }\n",
       "\n",
       "    .dataframe tbody tr th {\n",
       "        vertical-align: top;\n",
       "    }\n",
       "\n",
       "    .dataframe thead th {\n",
       "        text-align: right;\n",
       "    }\n",
       "</style>\n",
       "<table border=\"1\" class=\"dataframe\">\n",
       "  <thead>\n",
       "    <tr style=\"text-align: right;\">\n",
       "      <th></th>\n",
       "      <th></th>\n",
       "      <th>Colomn1</th>\n",
       "      <th>Colomn2</th>\n",
       "      <th>Colomn3</th>\n",
       "    </tr>\n",
       "  </thead>\n",
       "  <tbody>\n",
       "    <tr>\n",
       "      <th rowspan=\"3\" valign=\"top\">Group1</th>\n",
       "      <th>index1</th>\n",
       "      <td>0.191847</td>\n",
       "      <td>0.722352</td>\n",
       "      <td>0.130227</td>\n",
       "    </tr>\n",
       "    <tr>\n",
       "      <th>index2</th>\n",
       "      <td>-0.806091</td>\n",
       "      <td>0.886480</td>\n",
       "      <td>-0.574814</td>\n",
       "    </tr>\n",
       "    <tr>\n",
       "      <th>index3</th>\n",
       "      <td>1.466743</td>\n",
       "      <td>0.048809</td>\n",
       "      <td>2.188255</td>\n",
       "    </tr>\n",
       "    <tr>\n",
       "      <th rowspan=\"3\" valign=\"top\">Group2</th>\n",
       "      <th>index1</th>\n",
       "      <td>0.825127</td>\n",
       "      <td>1.122132</td>\n",
       "      <td>0.645575</td>\n",
       "    </tr>\n",
       "    <tr>\n",
       "      <th>index2</th>\n",
       "      <td>-0.683205</td>\n",
       "      <td>0.843151</td>\n",
       "      <td>0.364915</td>\n",
       "    </tr>\n",
       "    <tr>\n",
       "      <th>index3</th>\n",
       "      <td>-1.072471</td>\n",
       "      <td>1.039427</td>\n",
       "      <td>-1.527278</td>\n",
       "    </tr>\n",
       "    <tr>\n",
       "      <th rowspan=\"3\" valign=\"top\">Group3</th>\n",
       "      <th>index1</th>\n",
       "      <td>0.584586</td>\n",
       "      <td>0.564355</td>\n",
       "      <td>0.234370</td>\n",
       "    </tr>\n",
       "    <tr>\n",
       "      <th>index2</th>\n",
       "      <td>-1.761819</td>\n",
       "      <td>0.059404</td>\n",
       "      <td>0.906221</td>\n",
       "    </tr>\n",
       "    <tr>\n",
       "      <th>index3</th>\n",
       "      <td>1.070922</td>\n",
       "      <td>0.118455</td>\n",
       "      <td>0.634682</td>\n",
       "    </tr>\n",
       "  </tbody>\n",
       "</table>\n",
       "</div>"
      ],
      "text/plain": [
       "                Colomn1   Colomn2   Colomn3\n",
       "Group1 index1  0.191847  0.722352  0.130227\n",
       "       index2 -0.806091  0.886480 -0.574814\n",
       "       index3  1.466743  0.048809  2.188255\n",
       "Group2 index1  0.825127  1.122132  0.645575\n",
       "       index2 -0.683205  0.843151  0.364915\n",
       "       index3 -1.072471  1.039427 -1.527278\n",
       "Group3 index1  0.584586  0.564355  0.234370\n",
       "       index2 -1.761819  0.059404  0.906221\n",
       "       index3  1.070922  0.118455  0.634682"
      ]
     },
     "execution_count": 80,
     "metadata": {},
     "output_type": "execute_result"
    }
   ],
   "source": [
    "df"
   ]
  },
  {
   "cell_type": "code",
   "execution_count": 86,
   "id": "534ca13b",
   "metadata": {},
   "outputs": [
    {
     "data": {
      "text/plain": [
       "0.19184659490774264"
      ]
     },
     "execution_count": 86,
     "metadata": {},
     "output_type": "execute_result"
    }
   ],
   "source": [
    "df.loc[\"Group1\"].loc[\"index1\"].loc[\"Colomn1\"]"
   ]
  },
  {
   "cell_type": "code",
   "execution_count": 101,
   "id": "40dd1c78",
   "metadata": {},
   "outputs": [
    {
     "data": {
      "text/plain": [
       "index1    0.191847\n",
       "index2   -0.806091\n",
       "Name: Colomn1, dtype: float64"
      ]
     },
     "execution_count": 101,
     "metadata": {},
     "output_type": "execute_result"
    }
   ],
   "source": [
    "df.loc[\"Group1\"].loc[[\"index1\", \"index2\"]][\"Colomn1\"]"
   ]
  },
  {
   "cell_type": "code",
   "execution_count": 110,
   "id": "31cc9fbf",
   "metadata": {},
   "outputs": [
    {
     "data": {
      "text/plain": [
       "Group1  index1    0.191847\n",
       "        index2   -0.806091\n",
       "        index3    1.466743\n",
       "Group2  index1    0.825127\n",
       "        index2   -0.683205\n",
       "        index3   -1.072471\n",
       "Name: Colomn1, dtype: float64"
      ]
     },
     "execution_count": 110,
     "metadata": {},
     "output_type": "execute_result"
    }
   ],
   "source": [
    "df.loc[[\"Group1\", \"Group2\"]][\"Colomn1\"]"
   ]
  },
  {
   "cell_type": "code",
   "execution_count": 111,
   "id": "75fb2f0e",
   "metadata": {},
   "outputs": [
    {
     "data": {
      "text/html": [
       "<div>\n",
       "<style scoped>\n",
       "    .dataframe tbody tr th:only-of-type {\n",
       "        vertical-align: middle;\n",
       "    }\n",
       "\n",
       "    .dataframe tbody tr th {\n",
       "        vertical-align: top;\n",
       "    }\n",
       "\n",
       "    .dataframe thead th {\n",
       "        text-align: right;\n",
       "    }\n",
       "</style>\n",
       "<table border=\"1\" class=\"dataframe\">\n",
       "  <thead>\n",
       "    <tr style=\"text-align: right;\">\n",
       "      <th></th>\n",
       "      <th></th>\n",
       "      <th>Colomn1</th>\n",
       "      <th>Colomn2</th>\n",
       "      <th>Colomn3</th>\n",
       "    </tr>\n",
       "  </thead>\n",
       "  <tbody>\n",
       "    <tr>\n",
       "      <th rowspan=\"3\" valign=\"top\">Group1</th>\n",
       "      <th>index1</th>\n",
       "      <td>0.191847</td>\n",
       "      <td>0.722352</td>\n",
       "      <td>0.130227</td>\n",
       "    </tr>\n",
       "    <tr>\n",
       "      <th>index2</th>\n",
       "      <td>-0.806091</td>\n",
       "      <td>0.886480</td>\n",
       "      <td>-0.574814</td>\n",
       "    </tr>\n",
       "    <tr>\n",
       "      <th>index3</th>\n",
       "      <td>1.466743</td>\n",
       "      <td>0.048809</td>\n",
       "      <td>2.188255</td>\n",
       "    </tr>\n",
       "    <tr>\n",
       "      <th rowspan=\"3\" valign=\"top\">Group2</th>\n",
       "      <th>index1</th>\n",
       "      <td>0.825127</td>\n",
       "      <td>1.122132</td>\n",
       "      <td>0.645575</td>\n",
       "    </tr>\n",
       "    <tr>\n",
       "      <th>index2</th>\n",
       "      <td>-0.683205</td>\n",
       "      <td>0.843151</td>\n",
       "      <td>0.364915</td>\n",
       "    </tr>\n",
       "    <tr>\n",
       "      <th>index3</th>\n",
       "      <td>-1.072471</td>\n",
       "      <td>1.039427</td>\n",
       "      <td>-1.527278</td>\n",
       "    </tr>\n",
       "    <tr>\n",
       "      <th rowspan=\"3\" valign=\"top\">Group3</th>\n",
       "      <th>index1</th>\n",
       "      <td>0.584586</td>\n",
       "      <td>0.564355</td>\n",
       "      <td>0.234370</td>\n",
       "    </tr>\n",
       "    <tr>\n",
       "      <th>index2</th>\n",
       "      <td>-1.761819</td>\n",
       "      <td>0.059404</td>\n",
       "      <td>0.906221</td>\n",
       "    </tr>\n",
       "    <tr>\n",
       "      <th>index3</th>\n",
       "      <td>1.070922</td>\n",
       "      <td>0.118455</td>\n",
       "      <td>0.634682</td>\n",
       "    </tr>\n",
       "  </tbody>\n",
       "</table>\n",
       "</div>"
      ],
      "text/plain": [
       "                Colomn1   Colomn2   Colomn3\n",
       "Group1 index1  0.191847  0.722352  0.130227\n",
       "       index2 -0.806091  0.886480 -0.574814\n",
       "       index3  1.466743  0.048809  2.188255\n",
       "Group2 index1  0.825127  1.122132  0.645575\n",
       "       index2 -0.683205  0.843151  0.364915\n",
       "       index3 -1.072471  1.039427 -1.527278\n",
       "Group3 index1  0.584586  0.564355  0.234370\n",
       "       index2 -1.761819  0.059404  0.906221\n",
       "       index3  1.070922  0.118455  0.634682"
      ]
     },
     "execution_count": 111,
     "metadata": {},
     "output_type": "execute_result"
    }
   ],
   "source": [
    "df"
   ]
  },
  {
   "cell_type": "code",
   "execution_count": 115,
   "id": "bdca1289",
   "metadata": {},
   "outputs": [],
   "source": [
    "df.index.names = [\"Group\", \"Index\"]"
   ]
  },
  {
   "cell_type": "code",
   "execution_count": 116,
   "id": "ce458cdb",
   "metadata": {},
   "outputs": [
    {
     "data": {
      "text/html": [
       "<div>\n",
       "<style scoped>\n",
       "    .dataframe tbody tr th:only-of-type {\n",
       "        vertical-align: middle;\n",
       "    }\n",
       "\n",
       "    .dataframe tbody tr th {\n",
       "        vertical-align: top;\n",
       "    }\n",
       "\n",
       "    .dataframe thead th {\n",
       "        text-align: right;\n",
       "    }\n",
       "</style>\n",
       "<table border=\"1\" class=\"dataframe\">\n",
       "  <thead>\n",
       "    <tr style=\"text-align: right;\">\n",
       "      <th></th>\n",
       "      <th></th>\n",
       "      <th>Colomn1</th>\n",
       "      <th>Colomn2</th>\n",
       "      <th>Colomn3</th>\n",
       "    </tr>\n",
       "    <tr>\n",
       "      <th>Group</th>\n",
       "      <th>Index</th>\n",
       "      <th></th>\n",
       "      <th></th>\n",
       "      <th></th>\n",
       "    </tr>\n",
       "  </thead>\n",
       "  <tbody>\n",
       "    <tr>\n",
       "      <th rowspan=\"3\" valign=\"top\">Group1</th>\n",
       "      <th>index1</th>\n",
       "      <td>0.191847</td>\n",
       "      <td>0.722352</td>\n",
       "      <td>0.130227</td>\n",
       "    </tr>\n",
       "    <tr>\n",
       "      <th>index2</th>\n",
       "      <td>-0.806091</td>\n",
       "      <td>0.886480</td>\n",
       "      <td>-0.574814</td>\n",
       "    </tr>\n",
       "    <tr>\n",
       "      <th>index3</th>\n",
       "      <td>1.466743</td>\n",
       "      <td>0.048809</td>\n",
       "      <td>2.188255</td>\n",
       "    </tr>\n",
       "    <tr>\n",
       "      <th rowspan=\"3\" valign=\"top\">Group2</th>\n",
       "      <th>index1</th>\n",
       "      <td>0.825127</td>\n",
       "      <td>1.122132</td>\n",
       "      <td>0.645575</td>\n",
       "    </tr>\n",
       "    <tr>\n",
       "      <th>index2</th>\n",
       "      <td>-0.683205</td>\n",
       "      <td>0.843151</td>\n",
       "      <td>0.364915</td>\n",
       "    </tr>\n",
       "    <tr>\n",
       "      <th>index3</th>\n",
       "      <td>-1.072471</td>\n",
       "      <td>1.039427</td>\n",
       "      <td>-1.527278</td>\n",
       "    </tr>\n",
       "    <tr>\n",
       "      <th rowspan=\"3\" valign=\"top\">Group3</th>\n",
       "      <th>index1</th>\n",
       "      <td>0.584586</td>\n",
       "      <td>0.564355</td>\n",
       "      <td>0.234370</td>\n",
       "    </tr>\n",
       "    <tr>\n",
       "      <th>index2</th>\n",
       "      <td>-1.761819</td>\n",
       "      <td>0.059404</td>\n",
       "      <td>0.906221</td>\n",
       "    </tr>\n",
       "    <tr>\n",
       "      <th>index3</th>\n",
       "      <td>1.070922</td>\n",
       "      <td>0.118455</td>\n",
       "      <td>0.634682</td>\n",
       "    </tr>\n",
       "  </tbody>\n",
       "</table>\n",
       "</div>"
      ],
      "text/plain": [
       "                Colomn1   Colomn2   Colomn3\n",
       "Group  Index                               \n",
       "Group1 index1  0.191847  0.722352  0.130227\n",
       "       index2 -0.806091  0.886480 -0.574814\n",
       "       index3  1.466743  0.048809  2.188255\n",
       "Group2 index1  0.825127  1.122132  0.645575\n",
       "       index2 -0.683205  0.843151  0.364915\n",
       "       index3 -1.072471  1.039427 -1.527278\n",
       "Group3 index1  0.584586  0.564355  0.234370\n",
       "       index2 -1.761819  0.059404  0.906221\n",
       "       index3  1.070922  0.118455  0.634682"
      ]
     },
     "execution_count": 116,
     "metadata": {},
     "output_type": "execute_result"
    }
   ],
   "source": [
    "df"
   ]
  },
  {
   "cell_type": "code",
   "execution_count": null,
   "id": "7cbe91e8",
   "metadata": {},
   "outputs": [],
   "source": []
  }
 ],
 "metadata": {
  "kernelspec": {
   "display_name": "Python 3 (ipykernel)",
   "language": "python",
   "name": "python3"
  },
  "language_info": {
   "codemirror_mode": {
    "name": "ipython",
    "version": 3
   },
   "file_extension": ".py",
   "mimetype": "text/x-python",
   "name": "python",
   "nbconvert_exporter": "python",
   "pygments_lexer": "ipython3",
   "version": "3.11.3"
  }
 },
 "nbformat": 4,
 "nbformat_minor": 5
}
