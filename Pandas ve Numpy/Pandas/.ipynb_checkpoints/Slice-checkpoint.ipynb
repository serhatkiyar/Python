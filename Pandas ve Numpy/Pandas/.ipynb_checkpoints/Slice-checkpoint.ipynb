{
 "cells": [
  {
   "cell_type": "markdown",
   "id": "dda4f1ff",
   "metadata": {},
   "source": [
    "# Slice"
   ]
  },
  {
   "cell_type": "markdown",
   "id": "56f5d81f",
   "metadata": {},
   "source": [
    "1:3 | 1 slice 3 | 1' den 3' e kadar git."
   ]
  },
  {
   "cell_type": "code",
   "execution_count": 106,
   "id": "02dd6d39",
   "metadata": {},
   "outputs": [],
   "source": [
    "import numpy as np"
   ]
  },
  {
   "cell_type": "code",
   "execution_count": 107,
   "id": "82b82c28",
   "metadata": {},
   "outputs": [],
   "source": [
    "matris = np.random.randint(10)"
   ]
  },
  {
   "cell_type": "code",
   "execution_count": 108,
   "id": "84f268f9",
   "metadata": {},
   "outputs": [],
   "source": [
    "matris"
   ]
  },
  {
   "cell_type": "code",
   "execution_count": null,
   "id": "284f7d22",
   "metadata": {},
   "outputs": [],
   "source": []
  },
  {
   "cell_type": "code",
   "execution_count": null,
   "id": "1a38f15d",
   "metadata": {},
   "outputs": [],
   "source": []
  },
  {
   "cell_type": "code",
   "execution_count": null,
   "id": "2d8c629a",
   "metadata": {},
   "outputs": [],
   "source": []
  },
  {
   "cell_type": "code",
   "execution_count": null,
   "id": "41f3f5d2",
   "metadata": {},
   "outputs": [],
   "source": []
  },
  {
   "cell_type": "markdown",
   "id": "106826cb",
   "metadata": {},
   "source": [
    "**_______________________________________________________________________________________________________________**"
   ]
  },
  {
   "cell_type": "code",
   "execution_count": 13,
   "id": "110ee512",
   "metadata": {},
   "outputs": [
    {
     "data": {
      "text/plain": [
       "0"
      ]
     },
     "execution_count": 13,
     "metadata": {},
     "output_type": "execute_result"
    }
   ],
   "source": [
    "matris[0, 0]"
   ]
  },
  {
   "cell_type": "markdown",
   "id": "cc6ea4b6",
   "metadata": {},
   "source": [
    "matris[index] = satırları seçer"
   ]
  },
  {
   "cell_type": "markdown",
   "id": "0a5021ca",
   "metadata": {},
   "source": [
    "**_______________________________________________________________________________________________________________**"
   ]
  },
  {
   "cell_type": "code",
   "execution_count": 20,
   "id": "3f495167",
   "metadata": {},
   "outputs": [
    {
     "data": {
      "text/plain": [
       "array([[0, 1, 2],\n",
       "       [3, 4, 5],\n",
       "       [6, 7, 8]])"
      ]
     },
     "execution_count": 20,
     "metadata": {},
     "output_type": "execute_result"
    }
   ],
   "source": [
    "matris"
   ]
  },
  {
   "cell_type": "code",
   "execution_count": 15,
   "id": "a693b979",
   "metadata": {},
   "outputs": [
    {
     "data": {
      "text/plain": [
       "array([6, 7, 8])"
      ]
     },
     "execution_count": 15,
     "metadata": {},
     "output_type": "execute_result"
    }
   ],
   "source": [
    "matris[2]"
   ]
  },
  {
   "cell_type": "markdown",
   "id": "f9a0dadf",
   "metadata": {},
   "source": [
    "matris[index1, index2] = elemanları seçer"
   ]
  },
  {
   "cell_type": "markdown",
   "id": "f279c381",
   "metadata": {},
   "source": [
    "**_______________________________________________________________________________________________________________**"
   ]
  },
  {
   "cell_type": "code",
   "execution_count": 21,
   "id": "38a28ec9",
   "metadata": {},
   "outputs": [
    {
     "data": {
      "text/plain": [
       "array([[0, 1, 2],\n",
       "       [3, 4, 5],\n",
       "       [6, 7, 8]])"
      ]
     },
     "execution_count": 21,
     "metadata": {},
     "output_type": "execute_result"
    }
   ],
   "source": [
    "matris"
   ]
  },
  {
   "cell_type": "code",
   "execution_count": 70,
   "id": "ee3366a2",
   "metadata": {},
   "outputs": [
    {
     "data": {
      "text/plain": [
       "array([1, 8])"
      ]
     },
     "execution_count": 70,
     "metadata": {},
     "output_type": "execute_result"
    }
   ],
   "source": [
    "matris[[0, 2],[1,2]] # listelerden alınan satır ve sütun indexleri elemanları seçiyor"
   ]
  },
  {
   "cell_type": "markdown",
   "id": "34a5d807",
   "metadata": {},
   "source": [
    "matris[ [index1, index2] , [index3, index4] ] = [i1, i2] --> satır indexleri  | [i3, i4] --> sütun indexleri"
   ]
  },
  {
   "cell_type": "markdown",
   "id": "5971436a",
   "metadata": {},
   "source": [
    "**_______________________________________________________________________________________________________________**"
   ]
  },
  {
   "cell_type": "code",
   "execution_count": 71,
   "id": "62b8a3c5",
   "metadata": {},
   "outputs": [
    {
     "data": {
      "text/plain": [
       "array([[0, 1, 2],\n",
       "       [3, 4, 5],\n",
       "       [6, 7, 8]])"
      ]
     },
     "execution_count": 71,
     "metadata": {},
     "output_type": "execute_result"
    }
   ],
   "source": [
    "matris"
   ]
  },
  {
   "cell_type": "code",
   "execution_count": 82,
   "id": "08b8f948",
   "metadata": {},
   "outputs": [
    {
     "data": {
      "text/plain": [
       "array([[4, 5],\n",
       "       [7, 8]])"
      ]
     },
     "execution_count": 82,
     "metadata": {},
     "output_type": "execute_result"
    }
   ],
   "source": [
    "matris[1:3, 1:3]"
   ]
  },
  {
   "cell_type": "markdown",
   "id": "bec4c4e9",
   "metadata": {},
   "source": [
    "matris[i1:i2, i3:i4] ==> i1:i2 ile satır aralığını i3:i4 ile sütun aralığını belirterek mevcut arrayin bir alt kümesi oluşturuldu."
   ]
  },
  {
   "cell_type": "markdown",
   "id": "54c71c4c",
   "metadata": {},
   "source": [
    "**_______________________________________________________________________________________________________________**"
   ]
  },
  {
   "cell_type": "code",
   "execution_count": 83,
   "id": "d2ace300",
   "metadata": {},
   "outputs": [
    {
     "data": {
      "text/plain": [
       "array([[0, 1, 2],\n",
       "       [3, 4, 5],\n",
       "       [6, 7, 8]])"
      ]
     },
     "execution_count": 83,
     "metadata": {},
     "output_type": "execute_result"
    }
   ],
   "source": [
    "matris"
   ]
  },
  {
   "cell_type": "code",
   "execution_count": 86,
   "id": "d6f4f387",
   "metadata": {},
   "outputs": [
    {
     "data": {
      "text/plain": [
       "array([5, 6, 7, 8])"
      ]
     },
     "execution_count": 86,
     "metadata": {},
     "output_type": "execute_result"
    }
   ],
   "source": [
    "matris[matris > 4]"
   ]
  },
  {
   "cell_type": "markdown",
   "id": "16bd043c",
   "metadata": {},
   "source": [
    "------- Filtreledik hocam oyee -------"
   ]
  },
  {
   "cell_type": "markdown",
   "id": "9d08dc95",
   "metadata": {},
   "source": [
    "**_______________________________________________________________________________________________________________**"
   ]
  }
 ],
 "metadata": {
  "kernelspec": {
   "display_name": "Python 3 (ipykernel)",
   "language": "python",
   "name": "python3"
  },
  "language_info": {
   "codemirror_mode": {
    "name": "ipython",
    "version": 3
   },
   "file_extension": ".py",
   "mimetype": "text/x-python",
   "name": "python",
   "nbconvert_exporter": "python",
   "pygments_lexer": "ipython3",
   "version": "3.11.3"
  }
 },
 "nbformat": 4,
 "nbformat_minor": 5
}
