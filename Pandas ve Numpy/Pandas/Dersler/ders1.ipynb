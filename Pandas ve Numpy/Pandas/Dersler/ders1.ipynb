{
 "cells": [
  {
   "cell_type": "code",
   "execution_count": 2,
   "id": "initial_id",
   "metadata": {
    "ExecuteTime": {
     "end_time": "2024-02-25T20:21:35.028581700Z",
     "start_time": "2024-02-25T20:21:34.606662200Z"
    }
   },
   "outputs": [],
   "source": [
    "import pandas as pd"
   ]
  },
  {
   "cell_type": "code",
   "execution_count": 3,
   "id": "d1e3776ac5575a3",
   "metadata": {
    "ExecuteTime": {
     "end_time": "2024-02-25T20:26:33.726918Z",
     "start_time": "2024-02-25T20:26:33.718982700Z"
    }
   },
   "outputs": [
    {
     "data": {
      "text/plain": [
       "a    1\n",
       "b    2\n",
       "c    3\n",
       "d    4\n",
       "e    5\n",
       "dtype: int64"
      ]
     },
     "execution_count": 3,
     "metadata": {},
     "output_type": "execute_result"
    }
   ],
   "source": [
    "seri = pd.Series([1, 2, 3, 4 ,5], index=['a', 'b', 'c', 'd', 'e'])\n",
    "seri"
   ]
  },
  {
   "cell_type": "code",
   "execution_count": 6,
   "id": "7852a3fa0c94ca0c",
   "metadata": {
    "ExecuteTime": {
     "end_time": "2024-02-25T20:26:37.810674300Z",
     "start_time": "2024-02-25T20:26:37.800598400Z"
    }
   },
   "outputs": [
    {
     "data": {
      "text/plain": [
       "pandas.core.series.Series"
      ]
     },
     "execution_count": 6,
     "metadata": {},
     "output_type": "execute_result"
    }
   ],
   "source": [
    "type(seri)"
   ]
  },
  {
   "cell_type": "code",
   "execution_count": 7,
   "id": "a774c6351239d63a",
   "metadata": {
    "ExecuteTime": {
     "end_time": "2024-02-25T20:27:16.360862200Z",
     "start_time": "2024-02-25T20:27:16.343766Z"
    }
   },
   "outputs": [
    {
     "data": {
      "text/plain": [
       "[RangeIndex(start=0, stop=5, step=1)]"
      ]
     },
     "execution_count": 7,
     "metadata": {},
     "output_type": "execute_result"
    }
   ],
   "source": [
    "seri.axes"
   ]
  },
  {
   "cell_type": "code",
   "execution_count": 8,
   "id": "a70c88fb824c53f7",
   "metadata": {
    "ExecuteTime": {
     "end_time": "2024-02-25T20:27:19.526611100Z",
     "start_time": "2024-02-25T20:27:19.517521300Z"
    }
   },
   "outputs": [
    {
     "data": {
      "text/plain": [
       "dtype('int64')"
      ]
     },
     "execution_count": 8,
     "metadata": {},
     "output_type": "execute_result"
    }
   ],
   "source": [
    "seri.dtype"
   ]
  },
  {
   "cell_type": "code",
   "execution_count": 9,
   "id": "8210ac5a3c205f9c",
   "metadata": {
    "ExecuteTime": {
     "end_time": "2024-02-25T20:27:24.010793Z",
     "start_time": "2024-02-25T20:27:23.998997600Z"
    }
   },
   "outputs": [
    {
     "data": {
      "text/plain": [
       "5"
      ]
     },
     "execution_count": 9,
     "metadata": {},
     "output_type": "execute_result"
    }
   ],
   "source": [
    "seri.size"
   ]
  },
  {
   "cell_type": "code",
   "execution_count": 10,
   "id": "796d88bb51ae8fce",
   "metadata": {
    "ExecuteTime": {
     "end_time": "2024-02-25T20:27:36.386051600Z",
     "start_time": "2024-02-25T20:27:36.380612Z"
    }
   },
   "outputs": [
    {
     "data": {
      "text/plain": [
       "1"
      ]
     },
     "execution_count": 10,
     "metadata": {},
     "output_type": "execute_result"
    }
   ],
   "source": [
    "seri.ndim"
   ]
  },
  {
   "cell_type": "code",
   "execution_count": 11,
   "id": "36a827eec122e43f",
   "metadata": {
    "ExecuteTime": {
     "end_time": "2024-02-25T20:28:21.314036400Z",
     "start_time": "2024-02-25T20:28:21.306125800Z"
    }
   },
   "outputs": [
    {
     "data": {
      "text/plain": [
       "array([1, 2, 3, 4, 5], dtype=int64)"
      ]
     },
     "execution_count": 11,
     "metadata": {},
     "output_type": "execute_result"
    }
   ],
   "source": [
    "seri.values"
   ]
  },
  {
   "cell_type": "code",
   "execution_count": 12,
   "id": "658d40dcdc240d67",
   "metadata": {
    "ExecuteTime": {
     "end_time": "2024-02-25T20:28:33.117632400Z",
     "start_time": "2024-02-25T20:28:33.109553700Z"
    }
   },
   "outputs": [
    {
     "data": {
      "text/plain": [
       "0    1\n",
       "1    2\n",
       "2    3\n",
       "3    4\n",
       "4    5\n",
       "dtype: int64"
      ]
     },
     "execution_count": 12,
     "metadata": {},
     "output_type": "execute_result"
    }
   ],
   "source": [
    "seri.head()"
   ]
  },
  {
   "cell_type": "code",
   "execution_count": 15,
   "id": "de3974b303006c30",
   "metadata": {
    "ExecuteTime": {
     "end_time": "2024-02-25T20:29:03.344998700Z",
     "start_time": "2024-02-25T20:29:03.336871100Z"
    }
   },
   "outputs": [
    {
     "data": {
      "text/plain": [
       "2    3\n",
       "3    4\n",
       "4    5\n",
       "dtype: int64"
      ]
     },
     "execution_count": 15,
     "metadata": {},
     "output_type": "execute_result"
    }
   ],
   "source": [
    "seri.tail(3)"
   ]
  },
  {
   "cell_type": "markdown",
   "id": "c995454051f6252c",
   "metadata": {},
   "source": [
    "İndex isimlendirmesi"
   ]
  },
  {
   "cell_type": "code",
   "execution_count": 16,
   "id": "7476fff8d8fcabc1",
   "metadata": {
    "ExecuteTime": {
     "end_time": "2024-02-25T20:29:39.071870600Z",
     "start_time": "2024-02-25T20:29:39.062533400Z"
    }
   },
   "outputs": [
    {
     "data": {
      "text/plain": [
       "0    1\n",
       "1    2\n",
       "2    3\n",
       "3    4\n",
       "4    5\n",
       "dtype: int64"
      ]
     },
     "execution_count": 16,
     "metadata": {},
     "output_type": "execute_result"
    }
   ],
   "source": [
    "pd.Series([1, 2, 3, 4, 5])"
   ]
  },
  {
   "cell_type": "code",
   "execution_count": 19,
   "id": "cae2f7821be78b03",
   "metadata": {
    "ExecuteTime": {
     "end_time": "2024-02-25T20:31:20.898679500Z",
     "start_time": "2024-02-25T20:31:20.890004300Z"
    }
   },
   "outputs": [
    {
     "data": {
      "text/plain": [
       "A    1\n",
       "B    2\n",
       "C    3\n",
       "D    4\n",
       "E    5\n",
       "dtype: int64"
      ]
     },
     "execution_count": 19,
     "metadata": {},
     "output_type": "execute_result"
    }
   ],
   "source": [
    "seri = pd.Series([1, 2, 3, 4, 5], index=[\"A\", \"B\", \"C\", \"D\", \"E\"])\n",
    "seri"
   ]
  },
  {
   "cell_type": "code",
   "execution_count": 20,
   "id": "ac23b069bbd58325",
   "metadata": {
    "ExecuteTime": {
     "end_time": "2024-02-25T20:31:26.355929400Z",
     "start_time": "2024-02-25T20:31:26.342829300Z"
    }
   },
   "outputs": [
    {
     "data": {
      "text/plain": [
       "1"
      ]
     },
     "execution_count": 20,
     "metadata": {},
     "output_type": "execute_result"
    }
   ],
   "source": [
    "seri[\"A\"]"
   ]
  },
  {
   "cell_type": "code",
   "execution_count": 21,
   "id": "50120bc15058f338",
   "metadata": {
    "ExecuteTime": {
     "end_time": "2024-02-25T20:31:35.949565100Z",
     "start_time": "2024-02-25T20:31:35.940945400Z"
    }
   },
   "outputs": [
    {
     "data": {
      "text/plain": [
       "A    1\n",
       "B    2\n",
       "C    3\n",
       "dtype: int64"
      ]
     },
     "execution_count": 21,
     "metadata": {},
     "output_type": "execute_result"
    }
   ],
   "source": [
    "seri[\"A\":\"C\"]"
   ]
  },
  {
   "cell_type": "markdown",
   "id": "f4f18f55be3b0bd7",
   "metadata": {},
   "source": [
    "# Sözlük ile seri oluşturma"
   ]
  },
  {
   "cell_type": "code",
   "execution_count": 24,
   "id": "2d81d8e790c73ea8",
   "metadata": {
    "ExecuteTime": {
     "end_time": "2024-02-25T20:33:49.071912100Z",
     "start_time": "2024-02-25T20:33:49.063936500Z"
    }
   },
   "outputs": [],
   "source": [
    "a = pd.Series({\n",
    "    \"A\" : 4,\n",
    "    \"B\" : 5,\n",
    "    \"C\" : 6\n",
    "})"
   ]
  },
  {
   "cell_type": "code",
   "execution_count": 25,
   "id": "46b7f6b06e2e9359",
   "metadata": {
    "ExecuteTime": {
     "end_time": "2024-02-25T20:33:51.258032900Z",
     "start_time": "2024-02-25T20:33:51.248180Z"
    }
   },
   "outputs": [
    {
     "data": {
      "text/plain": [
       "A    4\n",
       "B    5\n",
       "C    6\n",
       "dtype: int64"
      ]
     },
     "execution_count": 25,
     "metadata": {},
     "output_type": "execute_result"
    }
   ],
   "source": [
    "a"
   ]
  },
  {
   "cell_type": "markdown",
   "id": "87741901cad6f1c8",
   "metadata": {},
   "source": [
    "# İki seriyi birleştirerek seri oluşturma"
   ]
  },
  {
   "cell_type": "code",
   "execution_count": 28,
   "id": "2e4e68d80f58baa0",
   "metadata": {
    "ExecuteTime": {
     "end_time": "2024-02-25T20:34:55.110061500Z",
     "start_time": "2024-02-25T20:34:55.101781400Z"
    }
   },
   "outputs": [
    {
     "data": {
      "text/plain": [
       "A    4\n",
       "B    5\n",
       "C    6\n",
       "A    4\n",
       "B    5\n",
       "C    6\n",
       "dtype: int64"
      ]
     },
     "execution_count": 28,
     "metadata": {},
     "output_type": "execute_result"
    }
   ],
   "source": [
    "pd.concat([a, a], axis=0)"
   ]
  }
 ],
 "metadata": {
  "kernelspec": {
   "display_name": "Python 3 (ipykernel)",
   "language": "python",
   "name": "python3"
  },
  "language_info": {
   "codemirror_mode": {
    "name": "ipython",
    "version": 3
   },
   "file_extension": ".py",
   "mimetype": "text/x-python",
   "name": "python",
   "nbconvert_exporter": "python",
   "pygments_lexer": "ipython3",
   "version": "3.11.3"
  }
 },
 "nbformat": 4,
 "nbformat_minor": 5
}
