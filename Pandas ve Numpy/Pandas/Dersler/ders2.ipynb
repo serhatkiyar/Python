{
 "cells": [
  {
   "cell_type": "markdown",
   "id": "ca807f62b281a07d",
   "metadata": {},
   "source": [
    "# Eleman işlemleri"
   ]
  },
  {
   "cell_type": "code",
   "execution_count": 4,
   "id": "d7416b7b43314bc0",
   "metadata": {
    "ExecuteTime": {
     "end_time": "2024-02-25T20:37:05.938566600Z",
     "start_time": "2024-02-25T20:37:05.935121900Z"
    }
   },
   "outputs": [],
   "source": [
    "import numpy as np\n",
    "import pandas as pd"
   ]
  },
  {
   "cell_type": "code",
   "execution_count": 5,
   "id": "f2d9968a5b7afd89",
   "metadata": {
    "ExecuteTime": {
     "end_time": "2024-02-25T20:37:06.857971200Z",
     "start_time": "2024-02-25T20:37:06.851549500Z"
    }
   },
   "outputs": [
    {
     "data": {
      "text/plain": [
       "0    1\n",
       "1    2\n",
       "2    3\n",
       "dtype: int32"
      ]
     },
     "execution_count": 5,
     "metadata": {},
     "output_type": "execute_result"
    }
   ],
   "source": [
    "a = np.array([1, 2, 3])\n",
    "seri = pd.Series(a)\n",
    "seri"
   ]
  },
  {
   "cell_type": "code",
   "execution_count": 6,
   "id": "5387c42e75ce51b5",
   "metadata": {
    "ExecuteTime": {
     "end_time": "2024-02-25T20:37:30.317818600Z",
     "start_time": "2024-02-25T20:37:30.310592200Z"
    }
   },
   "outputs": [
    {
     "data": {
      "text/plain": [
       "1"
      ]
     },
     "execution_count": 6,
     "metadata": {},
     "output_type": "execute_result"
    }
   ],
   "source": [
    "seri[0]"
   ]
  },
  {
   "cell_type": "code",
   "execution_count": 7,
   "id": "374bdd2ad97a738d",
   "metadata": {
    "ExecuteTime": {
     "end_time": "2024-02-25T20:37:45.047418300Z",
     "start_time": "2024-02-25T20:37:45.040956700Z"
    }
   },
   "outputs": [
    {
     "data": {
      "text/plain": [
       "0    1\n",
       "1    2\n",
       "2    3\n",
       "dtype: int32"
      ]
     },
     "execution_count": 7,
     "metadata": {},
     "output_type": "execute_result"
    }
   ],
   "source": [
    "seri[0:3]"
   ]
  },
  {
   "cell_type": "code",
   "execution_count": 8,
   "id": "c3fd929d4d9b566b",
   "metadata": {
    "ExecuteTime": {
     "end_time": "2024-02-25T20:38:32.552475500Z",
     "start_time": "2024-02-25T20:38:32.544820700Z"
    }
   },
   "outputs": [],
   "source": [
    "seri = pd.Series([124, 151, 155, 174], index=[\"S\", \"E\",\"R\",\"H\"])"
   ]
  },
  {
   "cell_type": "code",
   "execution_count": 9,
   "id": "4ce980581729f1e3",
   "metadata": {
    "ExecuteTime": {
     "end_time": "2024-02-25T20:38:35.044021800Z",
     "start_time": "2024-02-25T20:38:35.037069100Z"
    }
   },
   "outputs": [
    {
     "data": {
      "text/plain": [
       "S    124\n",
       "E    151\n",
       "R    155\n",
       "H    174\n",
       "dtype: int64"
      ]
     },
     "execution_count": 9,
     "metadata": {},
     "output_type": "execute_result"
    }
   ],
   "source": [
    "seri"
   ]
  },
  {
   "cell_type": "code",
   "execution_count": 10,
   "id": "8b85a72727f32150",
   "metadata": {
    "ExecuteTime": {
     "end_time": "2024-02-25T20:38:42.637247700Z",
     "start_time": "2024-02-25T20:38:42.630800600Z"
    }
   },
   "outputs": [
    {
     "data": {
      "text/plain": [
       "Index(['S', 'E', 'R', 'H'], dtype='object')"
      ]
     },
     "execution_count": 10,
     "metadata": {},
     "output_type": "execute_result"
    }
   ],
   "source": [
    "seri.index"
   ]
  },
  {
   "cell_type": "code",
   "execution_count": 13,
   "id": "7e85d803bba387cd",
   "metadata": {
    "ExecuteTime": {
     "end_time": "2024-02-25T20:38:59.021425900Z",
     "start_time": "2024-02-25T20:38:59.016763900Z"
    }
   },
   "outputs": [
    {
     "data": {
      "text/plain": [
       "<bound method Series.keys of S    124\n",
       "E    151\n",
       "R    155\n",
       "H    174\n",
       "dtype: int64>"
      ]
     },
     "execution_count": 13,
     "metadata": {},
     "output_type": "execute_result"
    }
   ],
   "source": [
    "seri.keys"
   ]
  },
  {
   "cell_type": "code",
   "execution_count": 15,
   "id": "7c3e0825e2cd382f",
   "metadata": {
    "ExecuteTime": {
     "end_time": "2024-02-25T20:39:20.649363Z",
     "start_time": "2024-02-25T20:39:20.644890900Z"
    }
   },
   "outputs": [
    {
     "data": {
      "text/plain": [
       "[('S', 124), ('E', 151), ('R', 155), ('H', 174)]"
      ]
     },
     "execution_count": 15,
     "metadata": {},
     "output_type": "execute_result"
    }
   ],
   "source": [
    "list(seri.items())"
   ]
  },
  {
   "cell_type": "code",
   "execution_count": 16,
   "id": "422865d7303d6a17",
   "metadata": {
    "ExecuteTime": {
     "end_time": "2024-02-25T20:39:32.830376400Z",
     "start_time": "2024-02-25T20:39:32.821992600Z"
    }
   },
   "outputs": [
    {
     "data": {
      "text/plain": [
       "{'S': 124, 'E': 151, 'R': 155, 'H': 174}"
      ]
     },
     "execution_count": 16,
     "metadata": {},
     "output_type": "execute_result"
    }
   ],
   "source": [
    "dict(seri.items())"
   ]
  },
  {
   "cell_type": "code",
   "execution_count": 17,
   "id": "2042da573939c87",
   "metadata": {
    "ExecuteTime": {
     "end_time": "2024-02-25T20:39:40.926974400Z",
     "start_time": "2024-02-25T20:39:40.922038900Z"
    }
   },
   "outputs": [
    {
     "data": {
      "text/plain": [
       "array([124, 151, 155, 174], dtype=int64)"
      ]
     },
     "execution_count": 17,
     "metadata": {},
     "output_type": "execute_result"
    }
   ],
   "source": [
    "seri.values"
   ]
  },
  {
   "cell_type": "markdown",
   "id": "27c1ac614b9013b5",
   "metadata": {},
   "source": [
    "# Eleman sorgulama"
   ]
  },
  {
   "cell_type": "code",
   "execution_count": 18,
   "id": "66070765df7cbe83",
   "metadata": {
    "ExecuteTime": {
     "end_time": "2024-02-25T20:40:16.686741Z",
     "start_time": "2024-02-25T20:40:16.681759800Z"
    }
   },
   "outputs": [
    {
     "data": {
      "text/plain": [
       "False"
      ]
     },
     "execution_count": 18,
     "metadata": {},
     "output_type": "execute_result"
    }
   ],
   "source": [
    "\"A\" in seri"
   ]
  },
  {
   "cell_type": "code",
   "execution_count": 22,
   "id": "77af6b382418ca0d",
   "metadata": {
    "ExecuteTime": {
     "end_time": "2024-02-25T20:41:00.636004500Z",
     "start_time": "2024-02-25T20:41:00.631020300Z"
    }
   },
   "outputs": [
    {
     "data": {
      "text/plain": [
       "True"
      ]
     },
     "execution_count": 22,
     "metadata": {},
     "output_type": "execute_result"
    }
   ],
   "source": [
    "\"S\" in seri"
   ]
  },
  {
   "cell_type": "code",
   "execution_count": 23,
   "id": "e080b245e135b4f2",
   "metadata": {
    "ExecuteTime": {
     "end_time": "2024-02-25T20:41:18.291291600Z",
     "start_time": "2024-02-25T20:41:18.284873500Z"
    }
   },
   "outputs": [
    {
     "data": {
      "text/plain": [
       "124"
      ]
     },
     "execution_count": 23,
     "metadata": {},
     "output_type": "execute_result"
    }
   ],
   "source": [
    "seri[\"S\"]"
   ]
  },
  {
   "cell_type": "markdown",
   "id": "2ee0b4ea2c724bcc",
   "metadata": {},
   "source": [
    "# Fancy"
   ]
  },
  {
   "cell_type": "code",
   "execution_count": 24,
   "id": "a13850cbe12029b1",
   "metadata": {
    "ExecuteTime": {
     "end_time": "2024-02-25T20:41:53.141218800Z",
     "start_time": "2024-02-25T20:41:53.131468900Z"
    }
   },
   "outputs": [
    {
     "data": {
      "text/plain": [
       "S    124\n",
       "H    174\n",
       "dtype: int64"
      ]
     },
     "execution_count": 24,
     "metadata": {},
     "output_type": "execute_result"
    }
   ],
   "source": [
    "seri[[\"S\", \"H\"]]"
   ]
  },
  {
   "cell_type": "markdown",
   "id": "3a882fe06734c07a",
   "metadata": {},
   "source": [
    "# Slice"
   ]
  },
  {
   "cell_type": "code",
   "execution_count": 25,
   "id": "66582790b849080e",
   "metadata": {
    "ExecuteTime": {
     "end_time": "2024-02-25T20:42:37.308108800Z",
     "start_time": "2024-02-25T20:42:37.294785100Z"
    }
   },
   "outputs": [
    {
     "data": {
      "text/plain": [
       "S    124\n",
       "E    151\n",
       "R    155\n",
       "H    174\n",
       "dtype: int64"
      ]
     },
     "execution_count": 25,
     "metadata": {},
     "output_type": "execute_result"
    }
   ],
   "source": [
    "seri[\"S\":\"H\"]"
   ]
  }
 ],
 "metadata": {
  "kernelspec": {
   "display_name": "Python 3 (ipykernel)",
   "language": "python",
   "name": "python3"
  },
  "language_info": {
   "codemirror_mode": {
    "name": "ipython",
    "version": 3
   },
   "file_extension": ".py",
   "mimetype": "text/x-python",
   "name": "python",
   "nbconvert_exporter": "python",
   "pygments_lexer": "ipython3",
   "version": "3.11.3"
  }
 },
 "nbformat": 4,
 "nbformat_minor": 5
}
