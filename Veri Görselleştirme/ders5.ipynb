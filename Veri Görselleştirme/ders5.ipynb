{
 "cells": [
  {
   "cell_type": "markdown",
   "id": "92c5df9d",
   "metadata": {},
   "source": [
    "# Sürekli Değişken Özetleri"
   ]
  },
  {
   "cell_type": "code",
   "execution_count": 1,
   "id": "43fef9fb",
   "metadata": {},
   "outputs": [
    {
     "data": {
      "text/html": [
       "<div>\n",
       "<style scoped>\n",
       "    .dataframe tbody tr th:only-of-type {\n",
       "        vertical-align: middle;\n",
       "    }\n",
       "\n",
       "    .dataframe tbody tr th {\n",
       "        vertical-align: top;\n",
       "    }\n",
       "\n",
       "    .dataframe thead th {\n",
       "        text-align: right;\n",
       "    }\n",
       "</style>\n",
       "<table border=\"1\" class=\"dataframe\">\n",
       "  <thead>\n",
       "    <tr style=\"text-align: right;\">\n",
       "      <th></th>\n",
       "      <th>method</th>\n",
       "      <th>number</th>\n",
       "      <th>orbital_period</th>\n",
       "      <th>mass</th>\n",
       "      <th>distance</th>\n",
       "      <th>year</th>\n",
       "    </tr>\n",
       "  </thead>\n",
       "  <tbody>\n",
       "    <tr>\n",
       "      <th>0</th>\n",
       "      <td>Radial Velocity</td>\n",
       "      <td>1</td>\n",
       "      <td>269.300</td>\n",
       "      <td>7.10</td>\n",
       "      <td>77.40</td>\n",
       "      <td>2006</td>\n",
       "    </tr>\n",
       "    <tr>\n",
       "      <th>1</th>\n",
       "      <td>Radial Velocity</td>\n",
       "      <td>1</td>\n",
       "      <td>874.774</td>\n",
       "      <td>2.21</td>\n",
       "      <td>56.95</td>\n",
       "      <td>2008</td>\n",
       "    </tr>\n",
       "    <tr>\n",
       "      <th>2</th>\n",
       "      <td>Radial Velocity</td>\n",
       "      <td>1</td>\n",
       "      <td>763.000</td>\n",
       "      <td>2.60</td>\n",
       "      <td>19.84</td>\n",
       "      <td>2011</td>\n",
       "    </tr>\n",
       "    <tr>\n",
       "      <th>3</th>\n",
       "      <td>Radial Velocity</td>\n",
       "      <td>1</td>\n",
       "      <td>326.030</td>\n",
       "      <td>19.40</td>\n",
       "      <td>110.62</td>\n",
       "      <td>2007</td>\n",
       "    </tr>\n",
       "    <tr>\n",
       "      <th>4</th>\n",
       "      <td>Radial Velocity</td>\n",
       "      <td>1</td>\n",
       "      <td>516.220</td>\n",
       "      <td>10.50</td>\n",
       "      <td>119.47</td>\n",
       "      <td>2009</td>\n",
       "    </tr>\n",
       "  </tbody>\n",
       "</table>\n",
       "</div>"
      ],
      "text/plain": [
       "            method  number  orbital_period   mass  distance  year\n",
       "0  Radial Velocity       1         269.300   7.10     77.40  2006\n",
       "1  Radial Velocity       1         874.774   2.21     56.95  2008\n",
       "2  Radial Velocity       1         763.000   2.60     19.84  2011\n",
       "3  Radial Velocity       1         326.030  19.40    110.62  2007\n",
       "4  Radial Velocity       1         516.220  10.50    119.47  2009"
      ]
     },
     "execution_count": 1,
     "metadata": {},
     "output_type": "execute_result"
    }
   ],
   "source": [
    "import seaborn as sns\n",
    "planets = sns.load_dataset('planets')\n",
    "df = planets.copy()\n",
    "df.head()"
   ]
  },
  {
   "cell_type": "code",
   "execution_count": 2,
   "id": "67e8c879",
   "metadata": {},
   "outputs": [],
   "source": [
    "df_num = df.select_dtypes(include = ['float64', 'int64'])"
   ]
  },
  {
   "cell_type": "code",
   "execution_count": 3,
   "id": "de25a403",
   "metadata": {},
   "outputs": [
    {
     "data": {
      "text/html": [
       "<div>\n",
       "<style scoped>\n",
       "    .dataframe tbody tr th:only-of-type {\n",
       "        vertical-align: middle;\n",
       "    }\n",
       "\n",
       "    .dataframe tbody tr th {\n",
       "        vertical-align: top;\n",
       "    }\n",
       "\n",
       "    .dataframe thead th {\n",
       "        text-align: right;\n",
       "    }\n",
       "</style>\n",
       "<table border=\"1\" class=\"dataframe\">\n",
       "  <thead>\n",
       "    <tr style=\"text-align: right;\">\n",
       "      <th></th>\n",
       "      <th>number</th>\n",
       "      <th>orbital_period</th>\n",
       "      <th>mass</th>\n",
       "      <th>distance</th>\n",
       "      <th>year</th>\n",
       "    </tr>\n",
       "  </thead>\n",
       "  <tbody>\n",
       "    <tr>\n",
       "      <th>0</th>\n",
       "      <td>1</td>\n",
       "      <td>269.300</td>\n",
       "      <td>7.10</td>\n",
       "      <td>77.40</td>\n",
       "      <td>2006</td>\n",
       "    </tr>\n",
       "    <tr>\n",
       "      <th>1</th>\n",
       "      <td>1</td>\n",
       "      <td>874.774</td>\n",
       "      <td>2.21</td>\n",
       "      <td>56.95</td>\n",
       "      <td>2008</td>\n",
       "    </tr>\n",
       "    <tr>\n",
       "      <th>2</th>\n",
       "      <td>1</td>\n",
       "      <td>763.000</td>\n",
       "      <td>2.60</td>\n",
       "      <td>19.84</td>\n",
       "      <td>2011</td>\n",
       "    </tr>\n",
       "    <tr>\n",
       "      <th>3</th>\n",
       "      <td>1</td>\n",
       "      <td>326.030</td>\n",
       "      <td>19.40</td>\n",
       "      <td>110.62</td>\n",
       "      <td>2007</td>\n",
       "    </tr>\n",
       "    <tr>\n",
       "      <th>4</th>\n",
       "      <td>1</td>\n",
       "      <td>516.220</td>\n",
       "      <td>10.50</td>\n",
       "      <td>119.47</td>\n",
       "      <td>2009</td>\n",
       "    </tr>\n",
       "  </tbody>\n",
       "</table>\n",
       "</div>"
      ],
      "text/plain": [
       "   number  orbital_period   mass  distance  year\n",
       "0       1         269.300   7.10     77.40  2006\n",
       "1       1         874.774   2.21     56.95  2008\n",
       "2       1         763.000   2.60     19.84  2011\n",
       "3       1         326.030  19.40    110.62  2007\n",
       "4       1         516.220  10.50    119.47  2009"
      ]
     },
     "execution_count": 3,
     "metadata": {},
     "output_type": "execute_result"
    }
   ],
   "source": [
    "df_num.head()"
   ]
  },
  {
   "cell_type": "code",
   "execution_count": 5,
   "id": "f5983b4e",
   "metadata": {},
   "outputs": [
    {
     "data": {
      "text/html": [
       "<div>\n",
       "<style scoped>\n",
       "    .dataframe tbody tr th:only-of-type {\n",
       "        vertical-align: middle;\n",
       "    }\n",
       "\n",
       "    .dataframe tbody tr th {\n",
       "        vertical-align: top;\n",
       "    }\n",
       "\n",
       "    .dataframe thead th {\n",
       "        text-align: right;\n",
       "    }\n",
       "</style>\n",
       "<table border=\"1\" class=\"dataframe\">\n",
       "  <thead>\n",
       "    <tr style=\"text-align: right;\">\n",
       "      <th></th>\n",
       "      <th>count</th>\n",
       "      <th>mean</th>\n",
       "      <th>std</th>\n",
       "      <th>min</th>\n",
       "      <th>25%</th>\n",
       "      <th>50%</th>\n",
       "      <th>75%</th>\n",
       "      <th>max</th>\n",
       "    </tr>\n",
       "  </thead>\n",
       "  <tbody>\n",
       "    <tr>\n",
       "      <th>number</th>\n",
       "      <td>1035.0</td>\n",
       "      <td>1.785507</td>\n",
       "      <td>1.240976</td>\n",
       "      <td>1.000000</td>\n",
       "      <td>1.00000</td>\n",
       "      <td>1.0000</td>\n",
       "      <td>2.000</td>\n",
       "      <td>7.0</td>\n",
       "    </tr>\n",
       "    <tr>\n",
       "      <th>orbital_period</th>\n",
       "      <td>992.0</td>\n",
       "      <td>2002.917596</td>\n",
       "      <td>26014.728304</td>\n",
       "      <td>0.090706</td>\n",
       "      <td>5.44254</td>\n",
       "      <td>39.9795</td>\n",
       "      <td>526.005</td>\n",
       "      <td>730000.0</td>\n",
       "    </tr>\n",
       "    <tr>\n",
       "      <th>mass</th>\n",
       "      <td>513.0</td>\n",
       "      <td>2.638161</td>\n",
       "      <td>3.818617</td>\n",
       "      <td>0.003600</td>\n",
       "      <td>0.22900</td>\n",
       "      <td>1.2600</td>\n",
       "      <td>3.040</td>\n",
       "      <td>25.0</td>\n",
       "    </tr>\n",
       "    <tr>\n",
       "      <th>distance</th>\n",
       "      <td>808.0</td>\n",
       "      <td>264.069282</td>\n",
       "      <td>733.116493</td>\n",
       "      <td>1.350000</td>\n",
       "      <td>32.56000</td>\n",
       "      <td>55.2500</td>\n",
       "      <td>178.500</td>\n",
       "      <td>8500.0</td>\n",
       "    </tr>\n",
       "    <tr>\n",
       "      <th>year</th>\n",
       "      <td>1035.0</td>\n",
       "      <td>2009.070531</td>\n",
       "      <td>3.972567</td>\n",
       "      <td>1989.000000</td>\n",
       "      <td>2007.00000</td>\n",
       "      <td>2010.0000</td>\n",
       "      <td>2012.000</td>\n",
       "      <td>2014.0</td>\n",
       "    </tr>\n",
       "  </tbody>\n",
       "</table>\n",
       "</div>"
      ],
      "text/plain": [
       "                 count         mean           std          min         25%  \\\n",
       "number          1035.0     1.785507      1.240976     1.000000     1.00000   \n",
       "orbital_period   992.0  2002.917596  26014.728304     0.090706     5.44254   \n",
       "mass             513.0     2.638161      3.818617     0.003600     0.22900   \n",
       "distance         808.0   264.069282    733.116493     1.350000    32.56000   \n",
       "year            1035.0  2009.070531      3.972567  1989.000000  2007.00000   \n",
       "\n",
       "                      50%       75%       max  \n",
       "number             1.0000     2.000       7.0  \n",
       "orbital_period    39.9795   526.005  730000.0  \n",
       "mass               1.2600     3.040      25.0  \n",
       "distance          55.2500   178.500    8500.0  \n",
       "year            2010.0000  2012.000    2014.0  "
      ]
     },
     "execution_count": 5,
     "metadata": {},
     "output_type": "execute_result"
    }
   ],
   "source": [
    "df_num.describe().T"
   ]
  },
  {
   "cell_type": "code",
   "execution_count": 8,
   "id": "27bd720d",
   "metadata": {
    "scrolled": true
   },
   "outputs": [
    {
     "data": {
      "text/plain": [
       "count     808.000000\n",
       "mean      264.069282\n",
       "std       733.116493\n",
       "min         1.350000\n",
       "25%        32.560000\n",
       "50%        55.250000\n",
       "75%       178.500000\n",
       "max      8500.000000\n",
       "Name: distance, dtype: float64"
      ]
     },
     "execution_count": 8,
     "metadata": {},
     "output_type": "execute_result"
    }
   ],
   "source": [
    "df_num.distance.describe()"
   ]
  },
  {
   "cell_type": "markdown",
   "id": "38540bed",
   "metadata": {},
   "source": [
    "**________________________________________________________________________________________________________________**"
   ]
  },
  {
   "cell_type": "markdown",
   "id": "fd1e59bd",
   "metadata": {},
   "source": [
    "Ortalama"
   ]
  },
  {
   "cell_type": "code",
   "execution_count": 9,
   "id": "7bf6b493",
   "metadata": {},
   "outputs": [
    {
     "data": {
      "text/plain": [
       "264.06928217821786"
      ]
     },
     "execution_count": 9,
     "metadata": {},
     "output_type": "execute_result"
    }
   ],
   "source": [
    "df.distance.mean()"
   ]
  },
  {
   "cell_type": "markdown",
   "id": "9ec64a4c",
   "metadata": {},
   "source": [
    "Dolu Gözlem Sayısı"
   ]
  },
  {
   "cell_type": "code",
   "execution_count": 10,
   "id": "b7bee6cd",
   "metadata": {},
   "outputs": [
    {
     "data": {
      "text/plain": [
       "808"
      ]
     },
     "execution_count": 10,
     "metadata": {},
     "output_type": "execute_result"
    }
   ],
   "source": [
    "df.distance.count()"
   ]
  },
  {
   "cell_type": "markdown",
   "id": "f6755d43",
   "metadata": {},
   "source": [
    "Maksimum Değer"
   ]
  },
  {
   "cell_type": "code",
   "execution_count": 11,
   "id": "f9036294",
   "metadata": {},
   "outputs": [
    {
     "data": {
      "text/plain": [
       "8500.0"
      ]
     },
     "execution_count": 11,
     "metadata": {},
     "output_type": "execute_result"
    }
   ],
   "source": [
    "df.distance.max()"
   ]
  },
  {
   "cell_type": "markdown",
   "id": "f5703fcf",
   "metadata": {},
   "source": [
    "Minumum Değer"
   ]
  },
  {
   "cell_type": "code",
   "execution_count": 12,
   "id": "dc1af50b",
   "metadata": {},
   "outputs": [
    {
     "data": {
      "text/plain": [
       "1.35"
      ]
     },
     "execution_count": 12,
     "metadata": {},
     "output_type": "execute_result"
    }
   ],
   "source": [
    "df.distance.min()"
   ]
  },
  {
   "cell_type": "markdown",
   "id": "1b534d11",
   "metadata": {},
   "source": [
    "Medyan"
   ]
  },
  {
   "cell_type": "code",
   "execution_count": 13,
   "id": "0a12435a",
   "metadata": {},
   "outputs": [
    {
     "data": {
      "text/plain": [
       "55.25"
      ]
     },
     "execution_count": 13,
     "metadata": {},
     "output_type": "execute_result"
    }
   ],
   "source": [
    "df.distance.median()"
   ]
  },
  {
   "cell_type": "markdown",
   "id": "67456153",
   "metadata": {},
   "source": [
    "Standart Sapma"
   ]
  },
  {
   "cell_type": "code",
   "execution_count": 14,
   "id": "2447abe6",
   "metadata": {},
   "outputs": [
    {
     "data": {
      "text/plain": [
       "733.1164929404422"
      ]
     },
     "execution_count": 14,
     "metadata": {},
     "output_type": "execute_result"
    }
   ],
   "source": [
    "df.distance.std()"
   ]
  },
  {
   "cell_type": "code",
   "execution_count": 34,
   "id": "b035ba9d",
   "metadata": {},
   "outputs": [
    {
     "data": {
      "text/html": [
       "<div>\n",
       "<style scoped>\n",
       "    .dataframe tbody tr th:only-of-type {\n",
       "        vertical-align: middle;\n",
       "    }\n",
       "\n",
       "    .dataframe tbody tr th {\n",
       "        vertical-align: top;\n",
       "    }\n",
       "\n",
       "    .dataframe thead th {\n",
       "        text-align: right;\n",
       "    }\n",
       "</style>\n",
       "<table border=\"1\" class=\"dataframe\">\n",
       "  <thead>\n",
       "    <tr style=\"text-align: right;\">\n",
       "      <th></th>\n",
       "      <th>count</th>\n",
       "      <th>mean</th>\n",
       "      <th>max</th>\n",
       "      <th>min</th>\n",
       "      <th>median</th>\n",
       "      <th>std</th>\n",
       "    </tr>\n",
       "  </thead>\n",
       "  <tbody>\n",
       "    <tr>\n",
       "      <th>distance</th>\n",
       "      <td>808.0</td>\n",
       "      <td>264.069282</td>\n",
       "      <td>8500.0</td>\n",
       "      <td>1.35</td>\n",
       "      <td>55.25</td>\n",
       "      <td>733.116493</td>\n",
       "    </tr>\n",
       "  </tbody>\n",
       "</table>\n",
       "</div>"
      ],
      "text/plain": [
       "          count        mean     max   min  median         std\n",
       "distance  808.0  264.069282  8500.0  1.35   55.25  733.116493"
      ]
     },
     "execution_count": 34,
     "metadata": {},
     "output_type": "execute_result"
    }
   ],
   "source": [
    "pd.DataFrame(df.distance.aggregate(['count', 'mean', max, min, 'median', 'std'])).T"
   ]
  },
  {
   "cell_type": "code",
   "execution_count": 32,
   "id": "71b615e1",
   "metadata": {},
   "outputs": [],
   "source": [
    "import pandas as pd"
   ]
  },
  {
   "cell_type": "code",
   "execution_count": null,
   "id": "369c9e54",
   "metadata": {},
   "outputs": [],
   "source": []
  }
 ],
 "metadata": {
  "kernelspec": {
   "display_name": "Python 3 (ipykernel)",
   "language": "python",
   "name": "python3"
  },
  "language_info": {
   "codemirror_mode": {
    "name": "ipython",
    "version": 3
   },
   "file_extension": ".py",
   "mimetype": "text/x-python",
   "name": "python",
   "nbconvert_exporter": "python",
   "pygments_lexer": "ipython3",
   "version": "3.11.3"
  }
 },
 "nbformat": 4,
 "nbformat_minor": 5
}
